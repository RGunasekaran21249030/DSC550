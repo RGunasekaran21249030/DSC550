{
 "cells": [
  {
   "cell_type": "markdown",
   "id": "german-intelligence",
   "metadata": {},
   "source": [
    "#  4.2 Exercise: Sentiment Analysis\n",
    "\n",
    "Name : Ragunath Gunasekaran\n"
   ]
  },
  {
   "cell_type": "code",
   "execution_count": 98,
   "id": "touched-wealth",
   "metadata": {},
   "outputs": [],
   "source": [
    "  # Importing Libraries  \n",
    "    \n",
    "import pandas as pd\n",
    "import unicodedata\n",
    "import sys\n",
    "import numpy as np\n",
    "\n",
    "from nltk.stem import PorterStemmer\n",
    "from nltk.tokenize import word_tokenize\n",
    "from nltk.corpus import stopwords\n",
    "\n",
    "from sklearn.feature_extraction.text import CountVectorizer"
   ]
  },
  {
   "cell_type": "markdown",
   "id": "after-marketing",
   "metadata": {},
   "source": [
    "## Step 1 - Load the data file DailyComments.csv from the Week 4 Data Files into a data frame.\n",
    "\n",
    "1.  Loading the data\n",
    "\n",
    "2.  Text Cleaning or Preprocessing\n",
    "\n",
    "            Remove Punctuations, Numbers\n",
    "            Stemming\n",
    "            Convert each word into its lower case\n"
   ]
  },
  {
   "cell_type": "code",
   "execution_count": 99,
   "id": "honey-annex",
   "metadata": {},
   "outputs": [
    {
     "name": "stdout",
     "output_type": "stream",
     "text": [
      "  Day of Week                                        comments\n",
      "0      Monday                             Hello, how are you?\n",
      "1     Tuesday                            Today is a good day!\n",
      "2   Wednesday  It's my birthday so it's a really special day!\n",
      "3    Thursday       Today is neither a good day or a bad day!\n",
      "4      Friday                           I'm having a bad day.\n",
      "5    Saturday       There' s nothing special happening today.\n",
      "6      Sunday                      Today is a SUPER good day!\n"
     ]
    },
    {
     "data": {
      "text/html": [
       "<div>\n",
       "<style scoped>\n",
       "    .dataframe tbody tr th:only-of-type {\n",
       "        vertical-align: middle;\n",
       "    }\n",
       "\n",
       "    .dataframe tbody tr th {\n",
       "        vertical-align: top;\n",
       "    }\n",
       "\n",
       "    .dataframe thead th {\n",
       "        text-align: right;\n",
       "    }\n",
       "</style>\n",
       "<table border=\"1\" class=\"dataframe\">\n",
       "  <thead>\n",
       "    <tr style=\"text-align: right;\">\n",
       "      <th></th>\n",
       "      <th>Day of Week</th>\n",
       "      <th>comments</th>\n",
       "    </tr>\n",
       "  </thead>\n",
       "  <tbody>\n",
       "    <tr>\n",
       "      <th>0</th>\n",
       "      <td>Monday</td>\n",
       "      <td>Hello, how are you?</td>\n",
       "    </tr>\n",
       "    <tr>\n",
       "      <th>1</th>\n",
       "      <td>Tuesday</td>\n",
       "      <td>Today is a good day!</td>\n",
       "    </tr>\n",
       "    <tr>\n",
       "      <th>2</th>\n",
       "      <td>Wednesday</td>\n",
       "      <td>It's my birthday so it's a really special day!</td>\n",
       "    </tr>\n",
       "    <tr>\n",
       "      <th>3</th>\n",
       "      <td>Thursday</td>\n",
       "      <td>Today is neither a good day or a bad day!</td>\n",
       "    </tr>\n",
       "    <tr>\n",
       "      <th>4</th>\n",
       "      <td>Friday</td>\n",
       "      <td>I'm having a bad day.</td>\n",
       "    </tr>\n",
       "  </tbody>\n",
       "</table>\n",
       "</div>"
      ],
      "text/plain": [
       "  Day of Week                                        comments\n",
       "0      Monday                             Hello, how are you?\n",
       "1     Tuesday                            Today is a good day!\n",
       "2   Wednesday  It's my birthday so it's a really special day!\n",
       "3    Thursday       Today is neither a good day or a bad day!\n",
       "4      Friday                           I'm having a bad day."
      ]
     },
     "execution_count": 99,
     "metadata": {},
     "output_type": "execute_result"
    }
   ],
   "source": [
    "# Assign File Location \n",
    "FileLocation='DailyComments.csv'\n",
    "# Loading the data from .csv to Dataframe through Pandas Library\n",
    "Comments_df = pd.read_csv(FileLocation)\n",
    "print(Comments_df)\n",
    "# Comments field\n",
    "Comments = Comments_df['comments']\n",
    "Comments_df.head()"
   ]
  },
  {
   "cell_type": "code",
   "execution_count": 100,
   "id": "enabling-policy",
   "metadata": {},
   "outputs": [
    {
     "data": {
      "text/plain": [
       "0                               hello, how are you?\n",
       "1                              today is a good day!\n",
       "2    it's my birthday so it's a really special day!\n",
       "3         today is neither a good day or a bad day!\n",
       "4                             i'm having a bad day.\n",
       "5         there' s nothing special happening today.\n",
       "6                        today is a super good day!\n",
       "Name: comments, dtype: object"
      ]
     },
     "execution_count": 100,
     "metadata": {},
     "output_type": "execute_result"
    }
   ],
   "source": [
    "# converting into the lowercase\n",
    "Comments=Comments.apply(lambda x: x.lower())\n",
    "Comments"
   ]
  },
  {
   "cell_type": "code",
   "execution_count": 101,
   "id": "broken-donna",
   "metadata": {},
   "outputs": [
    {
     "data": {
      "text/plain": [
       "['hello how are you',\n",
       " 'today is a good day',\n",
       " 'its my birthday so its a really special day',\n",
       " 'today is neither a good day or a bad day',\n",
       " 'im having a bad day',\n",
       " 'there s nothing special happening today',\n",
       " 'today is a super good day']"
      ]
     },
     "execution_count": 101,
     "metadata": {},
     "output_type": "execute_result"
    }
   ],
   "source": [
    "punctuation = dict.fromkeys(i for i in range(sys.maxunicode) if unicodedata.category(chr(i)).startswith('P'))\n",
    "# removing puncutation\n",
    "Comments= [string.translate(punctuation) for string in Comments]\n",
    "Comments"
   ]
  },
  {
   "cell_type": "code",
   "execution_count": 102,
   "id": "discrete-strain",
   "metadata": {},
   "outputs": [],
   "source": [
    "# PorterStemmer\n",
    "ps = PorterStemmer()\n",
    "\n",
    "# Applying NLTK’s PorterStemmer\n",
    "Comments_df['comments'] = Comments_df['comments'].apply(lambda word_list: [ ps.stem(word) for word in word_list])"
   ]
  },
  {
   "cell_type": "markdown",
   "id": "temporal-christian",
   "metadata": {},
   "source": [
    "###  Loaded the data from daily comment CSV File to dataframe"
   ]
  },
  {
   "cell_type": "markdown",
   "id": "intense-cologne",
   "metadata": {},
   "source": [
    "## Step 2 - Identify a scheme to categorize each comment as positive or negative. \n",
    "\n",
    "Positive  - Comments with Positive words Like Happy, Good, Super, Excellent.\n",
    "\n",
    "Negative  - Comments with Positive words Like Bad, Angry, Worst.\n",
    "\n",
    "Netural  -  Both Positive or Negative.\n"
   ]
  },
  {
   "cell_type": "code",
   "execution_count": 103,
   "id": "proud-health",
   "metadata": {},
   "outputs": [
    {
     "name": "stdout",
     "output_type": "stream",
     "text": [
      "\n",
      "vectorized words\n",
      "\n",
      "['bad', 'birthday', 'day', 'good', 'happening', 'having', 'hello', 'im', 'really', 'special', 'super', 'today']\n",
      "\n",
      "Identify Feature Words - Matrix View\n",
      "\n",
      "[[0 0 0 0 0 0 1 0 0 0 0 0]\n",
      " [0 0 1 1 0 0 0 0 0 0 0 1]\n",
      " [0 1 1 0 0 0 0 0 1 1 0 0]\n",
      " [1 0 2 1 0 0 0 0 0 0 0 1]\n",
      " [1 0 1 0 0 1 0 1 0 0 0 0]\n",
      " [0 0 0 0 1 0 0 0 0 1 0 1]\n",
      " [0 0 1 1 0 0 0 0 0 0 1 1]]\n"
     ]
    }
   ],
   "source": [
    "vectorizer = CountVectorizer(stop_words='english')\n",
    "X = vectorizer.fit_transform(Comments)\n",
    "print(\"\")\n",
    "print(\"vectorized words\")\n",
    "print(\"\")\n",
    "print(vectorizer.get_feature_names())\n",
    "print(\"\")\n",
    "print(\"Identify Feature Words - Matrix View\")\n",
    "print(\"\")\n",
    "print( X.toarray())\n",
    "\n",
    "df = pd.DataFrame({'text' : Comments})"
   ]
  },
  {
   "cell_type": "markdown",
   "id": "unnecessary-trouble",
   "metadata": {},
   "source": [
    "##  Implement your sentiment analysis with code and display the results"
   ]
  },
  {
   "cell_type": "code",
   "execution_count": 104,
   "id": "disabled-elements",
   "metadata": {},
   "outputs": [
    {
     "name": "stdout",
     "output_type": "stream",
     "text": [
      " The Final Results are as below\n",
      "                                          text  positive1  positive2  \\\n",
      "0                            hello how are you          0          0   \n",
      "1                          today is a good day          1          0   \n",
      "2  its my birthday so its a really special day          0          1   \n",
      "3     today is neither a good day or a bad day          1          0   \n",
      "4                          im having a bad day          0          0   \n",
      "5      there s nothing special happening today          0          1   \n",
      "6                    today is a super good day          1          0   \n",
      "\n",
      "   negative  netural  TotalScore  \n",
      "0         0        0           0  \n",
      "1         0        0           1  \n",
      "2         0        0           1  \n",
      "3         1        1           0  \n",
      "4         1        0          -1  \n",
      "5         0        0           1  \n",
      "6         0        0           1  \n",
      "\n",
      "Overall Score:   3\n"
     ]
    }
   ],
   "source": [
    "#check for positive words and negative words\n",
    "\n",
    "df['positive1'] = df.text.str.count('good')|df.text.str.count('happy')|df.text.str.count('super')|df.text.str.count('excellent')\n",
    "df['positive2']= df.text.str.count('special')|df.text.str.count('nice')\n",
    "\n",
    "df['negative'] = df.text.str.count('bad')|df.text.str.count('worst')|df.text.str.count('angry')\n",
    "\n",
    "df['netural'] = df.text.str.count('good') & df.text.str.count('bad')\n",
    "\n",
    "df['TotalScore'] = df.positive1 + df.positive2 - df.negative\n",
    "\n",
    "print(\" The Final Results are as below\")\n",
    "print(df)\n",
    "\n",
    "\n",
    "# Display Results\n",
    "Z = sum(df['TotalScore'])\n",
    "print(\"\")\n",
    "print(\"Overall Score:  \",Z)"
   ]
  },
  {
   "cell_type": "markdown",
   "id": "outstanding-binding",
   "metadata": {},
   "source": [
    "## Conclusion\n",
    "\n",
    "1. Data get loaded into Data Frame\n",
    "\n",
    "2. Preprocessing the data for Text Analytics\n",
    "\n",
    "3. Applied logics for Sentiment Analysis for comments\n",
    "\n",
    "4. Displayed the results of the outcome"
   ]
  },
  {
   "cell_type": "code",
   "execution_count": null,
   "id": "finite-present",
   "metadata": {},
   "outputs": [],
   "source": []
  }
 ],
 "metadata": {
  "kernelspec": {
   "display_name": "Python 3",
   "language": "python",
   "name": "python3"
  },
  "language_info": {
   "codemirror_mode": {
    "name": "ipython",
    "version": 3
   },
   "file_extension": ".py",
   "mimetype": "text/x-python",
   "name": "python",
   "nbconvert_exporter": "python",
   "pygments_lexer": "ipython3",
   "version": "3.8.3"
  }
 },
 "nbformat": 4,
 "nbformat_minor": 5
}
