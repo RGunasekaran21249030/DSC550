{
 "cells": [
  {
   "cell_type": "markdown",
   "id": "dietary-consequence",
   "metadata": {},
   "source": [
    "## 1. Neural Network Classifier with Scikit"
   ]
  },
  {
   "cell_type": "code",
   "execution_count": null,
   "id": "finnish-shipping",
   "metadata": {},
   "outputs": [],
   "source": [
    "from sklearn.pipeline import Pipeline\n",
    "from sklearn.neural_network import MLPRegressor, MLPClassifier\n",
    "from sklearn.feature_extraction.text import TfidfVectorizer\n",
    "from reader import PickledReviewsReader\n",
    "from transformer import TextNormalizer, KeyphraseExtractor\n",
    "\n",
    "import time\n",
    "import numpy as np\n",
    "from functools import wraps\n",
    "\n",
    "from sklearn.externals import joblib\n",
    "from sklearn.model_selection import cross_val_score"
   ]
  },
  {
   "cell_type": "code",
   "execution_count": null,
   "id": "central-persian",
   "metadata": {},
   "outputs": [],
   "source": [
    "cpath = 'categorized-comments.jsonl'\n",
    "mpath = 'ann_cls.pkl'"
   ]
  },
  {
   "cell_type": "code",
   "execution_count": null,
   "id": "serial-jordan",
   "metadata": {},
   "outputs": [],
   "source": [
    "def timeit(func):\n",
    "    @wraps(func)\n",
    "    def wrapper(*args, **kwargs):\n",
    "        start = time.time()\n",
    "        result = func(*args, **kwargs)\n",
    "        return result, time.time() - start\n",
    "    return wrapper\n",
    "\n",
    "def documents(corpus):\n",
    "    return list(corpus.reviews())\n",
    "\n",
    "def continuous(corpus):\n",
    "    return list(corpus.scores())\n",
    "\n",
    "def make_categorical(corpus):\n",
    "    \"\"\"\n",
    "    terrible : 0.0 < y <= 3.0\n",
    "    okay     : 3.0 < y <= 5.0\n",
    "    great    : 5.0 < y <= 7.0\n",
    "    amazing  : 7.0 < y <= 10.1\n",
    "    :param corpus:\n",
    "    :return:\n",
    "    \"\"\"\n",
    "    return np.digitize(continuous(corpus), [0.0, 3.0, 5.0, 7.0, 10.1])\n",
    "\n",
    "@timeit\n",
    "def train_model(path, model, continuous=True, saveto=None, cv=12):\n",
    "    \"\"\"\n",
    "    Trains model from corpus at specified path; constructing cross-validation\n",
    "    scores using the cv parameter, then fitting the model on the full data and\n",
    "    writing it to disk at the saveto path if specified. Returns the scores.\n",
    "    \"\"\"\n",
    "    # Load the corpus data and labels for classification\n",
    "    corpus = PickledReviewsReader(path)\n",
    "    X = documents(corpus)\n",
    "    if continuous:\n",
    "        y = continuous(corpus)\n",
    "        scoring = 'r2_score'\n",
    "    else:\n",
    "        y = make_categorical(corpus)\n",
    "        scoring = 'f1_score'\n",
    "\n",
    "    # Compute cross validation scores\n",
    "    scores = cross_val_score(model, X, y, cv=cv, scoring=scoring)\n",
    "\n",
    "    # Fit the model on entire data set\n",
    "    model.fit(X, y)\n",
    "\n",
    "    # Write to disk if specified\n",
    "    if saveto:\n",
    "        joblib.dump(model, saveto)\n",
    "\n",
    "    # Return scores as well as training time via decorator\n",
    "    return scores"
   ]
  },
  {
   "cell_type": "code",
   "execution_count": null,
   "id": "smaller-egypt",
   "metadata": {},
   "outputs": [],
   "source": [
    "pipeline = Pipeline([\n",
    "        ('norm', TextNormalizer()), # can use KeyphraseExtractor() instead\n",
    "        ('tfidf', TfidfVectorizer()),\n",
    "        ('ann', MLPClassifier(hidden_layer_sizes=[500,150], verbose=True))\n",
    "    ])"
   ]
  },
  {
   "cell_type": "code",
   "execution_count": null,
   "id": "destroyed-filing",
   "metadata": {},
   "outputs": [],
   "source": [
    " scores, delta = train_model(cpath, pipeline, continuous=False, saveto=mpath)"
   ]
  },
  {
   "cell_type": "code",
   "execution_count": null,
   "id": "global-dependence",
   "metadata": {},
   "outputs": [],
   "source": [
    "for idx, score in enumerate(scores):\n",
    "        print(\"Accuracy on slice #{}: {}.\".format((idx+1), score))\n",
    "    print(\"Total fit time: {:0.2f} seconds\".format(delta))\n",
    "    print(\"Model saved to {}.\".format(mpath))"
   ]
  },
  {
   "cell_type": "markdown",
   "id": "referenced-castle",
   "metadata": {},
   "source": [
    "## Neural Network Classifier with Keras"
   ]
  },
  {
   "cell_type": "code",
   "execution_count": null,
   "id": "convinced-battery",
   "metadata": {},
   "outputs": [],
   "source": [
    "import os\n",
    "import time\n",
    "import numpy as np\n",
    "\n",
    "from functools import wraps\n",
    "\n",
    "from sklearn.externals import joblib\n",
    "from sklearn.preprocessing import LabelBinarizer\n",
    "from sklearn.model_selection import cross_val_score\n",
    "\n",
    "from keras.layers.embeddings import Embedding\n",
    "from keras.models import load_model, Sequential\n",
    "from keras.wrappers.scikit_learn import KerasClassifier\n",
    "from keras.layers import Dense, Dropout, Activation, LSTM\n",
    "\n",
    "from sklearn.pipeline import Pipeline\n",
    "\n",
    "from sklearn.feature_extraction.text import TfidfVectorizer\n",
    "from reader import PickledReviewsReader\n",
    "from am_reader import PickledAmazonReviewsReader\n",
    "from transformer import TextNormalizer, GensimDoc2Vectorizer\n",
    "from transformer import KeyphraseExtractor, GensimTfidfVectorizer\n"
   ]
  },
  {
   "cell_type": "code",
   "execution_count": null,
   "id": "studied-boxing",
   "metadata": {},
   "outputs": [],
   "source": [
    "N_FEATURES = 10000\n",
    "DOC_LEN = 60\n",
    "N_CLASSES = 2"
   ]
  },
  {
   "cell_type": "code",
   "execution_count": null,
   "id": "ordered-range",
   "metadata": {},
   "outputs": [],
   "source": [
    "def timeit(func):\n",
    "    @wraps(func)\n",
    "    def wrapper(*args, **kwargs):\n",
    "        start = time.time()\n",
    "        result = func(*args, **kwargs)\n",
    "        return result, time.time() - start\n",
    "    return wrapper\n",
    "\n",
    "def documents(corpus):\n",
    "    return list(corpus.reviews())\n",
    "\n",
    "def continuous(corpus):\n",
    "    return list(corpus.scores())\n",
    "\n",
    "def make_categorical(corpus):\n",
    "    return np.digitize(continuous(corpus), [0.0, 3.0, 5.0, 7.0, 10.1])\n",
    "\n",
    "def binarize(corpus):\n",
    "    return np.digitize(continuous(corpus), [0.0, 3.0, 5.1])\n",
    "\n",
    "def build_nn():\n",
    "    \"\"\"\n",
    "    Create a function that returns a compiled neural network\n",
    "    :return: compiled Keras neural network model\n",
    "    \"\"\"\n",
    "    nn = Sequential()\n",
    "    nn.add(Dense(500, activation='relu', input_shape=(N_FEATURES,)))\n",
    "    nn.add(Dense(150, activation='relu'))\n",
    "    nn.add(Dense(N_CLASSES, activation='softmax'))\n",
    "    nn.compile(\n",
    "        loss='categorical_crossentropy',\n",
    "        optimizer='adam',\n",
    "        metrics=['accuracy']\n",
    "    )\n",
    "    return nn\n",
    "\n",
    "def build_lstm():\n",
    "    lstm = Sequential()\n",
    "    lstm.add(Embedding(N_FEATURES+1, 128, input_length=DOC_LEN))\n",
    "    lstm.add(Dropout(0.4))\n",
    "    lstm.add(LSTM(units=200, recurrent_dropout=0.2, dropout=0.2))\n",
    "    lstm.add(Dropout(0.2))\n",
    "    lstm.add(Dense(N_CLASSES, activation='sigmoid'))\n",
    "    lstm.compile(\n",
    "        loss='categorical_crossentropy', # b/c target vals are 1 or 2\n",
    "        optimizer='adam',\n",
    "        metrics=['accuracy']\n",
    "    )\n",
    "    return lstm\n",
    "\n",
    "@timeit\n",
    "def train_model(path, model, reader, saveto=None, cv=12, **kwargs):\n",
    "    \"\"\"\n",
    "    Trains model from corpus at specified path;\n",
    "    fitting the model on the full data and\n",
    "    writing it to disk at the saveto directory if specified.\n",
    "    Returns the scores.\n",
    "    \"\"\"\n",
    "    # Load the corpus data and labels for classification\n",
    "    # corpus = PickledReviewsReader(path) # for Pitchfork\n",
    "    corpus = PickledAmazonReviewsReader(path)\n",
    "    X = documents(corpus)\n",
    "    # y = categorical(corpus) # for Pitchfork\n",
    "    y = binarize(corpus)\n",
    "\n",
    "    # Compute cross validation scores\n",
    "    # mp note: http://scikit-learn.org/stable/faq.html#why-do-i-sometime-get-a-crash-freeze-with-n-jobs-1-under-osx-or-linux\n",
    "    scores = cross_val_score(model, X, y, cv=cv, scoring='accuracy')\n",
    "\n",
    "    # Fit the model on entire data set\n",
    "    model.fit(X, y)\n",
    "\n",
    "    # Write to disk if specified\n",
    "    if saveto:\n",
    "        # have to save the keras part using keras' save method\n",
    "        model.steps[-1][1].model.save(saveto['keras_model'])\n",
    "        model.steps.pop(-1)\n",
    "        # ... and use joblib to save the rest of the pipeline\n",
    "        joblib.dump(model, saveto['sklearn_pipe'])\n",
    "\n",
    "    # Return scores as well as training time via decorator\n",
    "    return scores"
   ]
  },
  {
   "cell_type": "code",
   "execution_count": null,
   "id": "sitting-estonia",
   "metadata": {},
   "outputs": [],
   "source": [
    " cpath = 'categorized-comments.jsonl'\n",
    "    mpath = {\n",
    "        'keras_model'  : 'ktf/keras_nn.h5',\n",
    "        'sklearn_pipe' : 'ktf/pipeline.pkl'\n",
    "    }"
   ]
  },
  {
   "cell_type": "code",
   "execution_count": null,
   "id": "tamil-injection",
   "metadata": {},
   "outputs": [],
   "source": [
    "pipeline = Pipeline([\n",
    "        ('norm', TextNormalizer()),\n",
    "        ('vect', TfidfVectorizer(max_features=N_FEATURES)), # need to control feature count\n",
    "        # ('vect', GensimDoc2Vectorizer(size=N_FEATURES)), # need to control feature count\n",
    "        ('nn', KerasClassifier(build_fn=build_nn, # pass but don't call the function!\n",
    "                               epochs=200,\n",
    "                               batch_size=128))\n",
    "    ])"
   ]
  },
  {
   "cell_type": "markdown",
   "id": "united-chain",
   "metadata": {},
   "source": [
    "##  3. Classifying Images"
   ]
  },
  {
   "cell_type": "code",
   "execution_count": 2,
   "id": "wrapped-career",
   "metadata": {},
   "outputs": [
    {
     "name": "stdout",
     "output_type": "stream",
     "text": [
      "Requirement already satisfied: keras in c:\\users\\ragun\\anaconda3\\lib\\site-packages (2.4.3)\n",
      "Requirement already satisfied: h5py in c:\\users\\ragun\\anaconda3\\lib\\site-packages (from keras) (3.2.0)\n",
      "Requirement already satisfied: pyyaml in c:\\users\\ragun\\anaconda3\\lib\\site-packages (from keras) (5.4.1)\n",
      "Requirement already satisfied: numpy>=1.9.1 in c:\\users\\ragun\\anaconda3\\lib\\site-packages (from keras) (1.19.5)\n",
      "Requirement already satisfied: scipy>=0.14 in c:\\users\\ragun\\anaconda3\\lib\\site-packages (from keras) (1.6.3)\n",
      "Note: you may need to restart the kernel to use updated packages.\n"
     ]
    }
   ],
   "source": [
    "pip install keras"
   ]
  },
  {
   "cell_type": "code",
   "execution_count": 8,
   "id": "electronic-absolute",
   "metadata": {},
   "outputs": [
    {
     "name": "stdout",
     "output_type": "stream",
     "text": [
      "Requirement already satisfied: tensorflow in c:\\users\\ragun\\anaconda3\\lib\\site-packages (2.4.1)\n",
      "Requirement already satisfied: opt-einsum~=3.3.0 in c:\\users\\ragun\\anaconda3\\lib\\site-packages (from tensorflow) (3.3.0)\n",
      "Requirement already satisfied: numpy~=1.19.2 in c:\\users\\ragun\\anaconda3\\lib\\site-packages (from tensorflow) (1.19.5)\n",
      "Requirement already satisfied: typing-extensions~=3.7.4 in c:\\users\\ragun\\anaconda3\\lib\\site-packages (from tensorflow) (3.7.4.3)\n",
      "Requirement already satisfied: google-pasta~=0.2 in c:\\users\\ragun\\anaconda3\\lib\\site-packages (from tensorflow) (0.2.0)\n",
      "Requirement already satisfied: keras-preprocessing~=1.1.2 in c:\\users\\ragun\\anaconda3\\lib\\site-packages (from tensorflow) (1.1.2)\n",
      "Requirement already satisfied: gast==0.3.3 in c:\\users\\ragun\\anaconda3\\lib\\site-packages (from tensorflow) (0.3.3)\n",
      "Requirement already satisfied: flatbuffers~=1.12.0 in c:\\users\\ragun\\anaconda3\\lib\\site-packages (from tensorflow) (1.12)\n",
      "Requirement already satisfied: protobuf>=3.9.2 in c:\\users\\ragun\\anaconda3\\lib\\site-packages (from tensorflow) (3.14.0)\n",
      "Requirement already satisfied: termcolor~=1.1.0 in c:\\users\\ragun\\anaconda3\\lib\\site-packages (from tensorflow) (1.1.0)\n",
      "Requirement already satisfied: h5py~=2.10.0 in c:\\users\\ragun\\anaconda3\\lib\\site-packages (from tensorflow) (2.10.0)\n",
      "Requirement already satisfied: wheel~=0.35 in c:\\users\\ragun\\anaconda3\\lib\\site-packages (from tensorflow) (0.36.2)\n",
      "Requirement already satisfied: wrapt~=1.12.1 in c:\\users\\ragun\\anaconda3\\lib\\site-packages (from tensorflow) (1.12.1)\n",
      "Requirement already satisfied: tensorboard~=2.4 in c:\\users\\ragun\\anaconda3\\lib\\site-packages (from tensorflow) (2.4.1)\n",
      "Requirement already satisfied: grpcio~=1.32.0 in c:\\users\\ragun\\anaconda3\\lib\\site-packages (from tensorflow) (1.32.0)\n",
      "Requirement already satisfied: astunparse~=1.6.3 in c:\\users\\ragun\\anaconda3\\lib\\site-packages (from tensorflow) (1.6.3)\n",
      "Requirement already satisfied: absl-py~=0.10 in c:\\users\\ragun\\anaconda3\\lib\\site-packages (from tensorflow) (0.11.0)\n",
      "Requirement already satisfied: six~=1.15.0 in c:\\users\\ragun\\anaconda3\\lib\\site-packages (from tensorflow) (1.15.0)\n",
      "Requirement already satisfied: tensorflow-estimator<2.5.0,>=2.4.0 in c:\\users\\ragun\\anaconda3\\lib\\site-packages (from tensorflow) (2.4.0)\n",
      "Requirement already satisfied: werkzeug>=0.11.15 in c:\\users\\ragun\\appdata\\roaming\\python\\python38\\site-packages (from tensorboard~=2.4->tensorflow) (1.0.1)\n",
      "Requirement already satisfied: google-auth-oauthlib<0.5,>=0.4.1 in c:\\users\\ragun\\anaconda3\\lib\\site-packages (from tensorboard~=2.4->tensorflow) (0.4.2)\n",
      "Requirement already satisfied: tensorboard-plugin-wit>=1.6.0 in c:\\users\\ragun\\anaconda3\\lib\\site-packages (from tensorboard~=2.4->tensorflow) (1.8.0)\n",
      "Requirement already satisfied: google-auth<2,>=1.6.3 in c:\\users\\ragun\\anaconda3\\lib\\site-packages (from tensorboard~=2.4->tensorflow) (1.27.1)\n",
      "Requirement already satisfied: setuptools>=41.0.0 in c:\\users\\ragun\\anaconda3\\lib\\site-packages (from tensorboard~=2.4->tensorflow) (49.6.0.post20210108)\n",
      "Requirement already satisfied: markdown>=2.6.8 in c:\\users\\ragun\\anaconda3\\lib\\site-packages (from tensorboard~=2.4->tensorflow) (3.3.3)\n",
      "Requirement already satisfied: requests<3,>=2.21.0 in c:\\users\\ragun\\appdata\\roaming\\python\\python38\\site-packages (from tensorboard~=2.4->tensorflow) (2.23.0)\n",
      "Requirement already satisfied: cachetools<5.0,>=2.0.0 in c:\\users\\ragun\\anaconda3\\lib\\site-packages (from google-auth<2,>=1.6.3->tensorboard~=2.4->tensorflow) (4.2.0)\n",
      "Requirement already satisfied: rsa<5,>=3.1.4 in c:\\users\\ragun\\anaconda3\\lib\\site-packages (from google-auth<2,>=1.6.3->tensorboard~=2.4->tensorflow) (3.4.2)\n",
      "Requirement already satisfied: pyasn1-modules>=0.2.1 in c:\\users\\ragun\\anaconda3\\lib\\site-packages (from google-auth<2,>=1.6.3->tensorboard~=2.4->tensorflow) (0.2.8)\n",
      "Requirement already satisfied: requests-oauthlib>=0.7.0 in c:\\users\\ragun\\anaconda3\\lib\\site-packages (from google-auth-oauthlib<0.5,>=0.4.1->tensorboard~=2.4->tensorflow) (1.3.0)\n",
      "Requirement already satisfied: pyasn1<0.5.0,>=0.4.6 in c:\\users\\ragun\\anaconda3\\lib\\site-packages (from pyasn1-modules>=0.2.1->google-auth<2,>=1.6.3->tensorboard~=2.4->tensorflow) (0.4.8)\n",
      "Requirement already satisfied: idna<3,>=2.5 in c:\\users\\ragun\\appdata\\roaming\\python\\python38\\site-packages (from requests<3,>=2.21.0->tensorboard~=2.4->tensorflow) (2.9)\n",
      "Requirement already satisfied: urllib3!=1.25.0,!=1.25.1,<1.26,>=1.21.1 in c:\\users\\ragun\\appdata\\roaming\\python\\python38\\site-packages (from requests<3,>=2.21.0->tensorboard~=2.4->tensorflow) (1.25.9)\n",
      "Requirement already satisfied: chardet<4,>=3.0.2 in c:\\users\\ragun\\appdata\\roaming\\python\\python38\\site-packages (from requests<3,>=2.21.0->tensorboard~=2.4->tensorflow) (3.0.4)\n",
      "Requirement already satisfied: certifi>=2017.4.17 in c:\\users\\ragun\\appdata\\roaming\\python\\python38\\site-packages (from requests<3,>=2.21.0->tensorboard~=2.4->tensorflow) (2020.4.5.1)\n",
      "Requirement already satisfied: oauthlib>=3.0.0 in c:\\users\\ragun\\anaconda3\\lib\\site-packages (from requests-oauthlib>=0.7.0->google-auth-oauthlib<0.5,>=0.4.1->tensorboard~=2.4->tensorflow) (3.1.0)\n",
      "Note: you may need to restart the kernel to use updated packages.\n"
     ]
    }
   ],
   "source": [
    "pip install tensorflow"
   ]
  },
  {
   "cell_type": "code",
   "execution_count": null,
   "id": "continued-renewal",
   "metadata": {},
   "outputs": [],
   "source": [
    "import numpy as np\n",
    "from keras.datasets import mnist\n",
    "from keras.models import Sequential\n",
    "from keras.layers import Dense, Dropout, Flatten\n",
    "from keras.layers.convolutional import Conv2D, MaxPooling2D\n",
    "from keras.utils import np_utils\n",
    "K.set_image_data_format(\"channels_first\")"
   ]
  },
  {
   "cell_type": "code",
   "execution_count": null,
   "id": "excited-pantyhose",
   "metadata": {},
   "outputs": [],
   "source": [
    "np.random.seed(0)"
   ]
  },
  {
   "cell_type": "code",
   "execution_count": null,
   "id": "continental-hygiene",
   "metadata": {},
   "outputs": [],
   "source": [
    "channels = 1\n",
    "height = 28\n",
    "width = 28"
   ]
  },
  {
   "cell_type": "code",
   "execution_count": null,
   "id": "fourth-posting",
   "metadata": {},
   "outputs": [],
   "source": [
    "(data_train, target_train), (data_test, target_test) = mnist.load_data()"
   ]
  },
  {
   "cell_type": "code",
   "execution_count": null,
   "id": "adverse-sweden",
   "metadata": {},
   "outputs": [],
   "source": [
    "data_train = data_train.reshape(data_train.shape[0], channels, height, width)"
   ]
  },
  {
   "cell_type": "code",
   "execution_count": null,
   "id": "illegal-strand",
   "metadata": {},
   "outputs": [],
   "source": [
    "features_train = data_train / 255\n",
    "features_test = data_test / 255"
   ]
  },
  {
   "cell_type": "code",
   "execution_count": null,
   "id": "legendary-apple",
   "metadata": {},
   "outputs": [],
   "source": [
    "target_train = np_utils.to_categorical(target_train)\n",
    "target_test = np_utils.to_categorical(target_test)\n",
    "number_of_classes = target_test.shape[1]"
   ]
  },
  {
   "cell_type": "code",
   "execution_count": null,
   "id": "cordless-generator",
   "metadata": {},
   "outputs": [],
   "source": [
    "network = Sequential()\n",
    "network.add(Conv2D(filters=64,\n",
    "                   kernel_size=(5, 5),\n",
    "                   input_shape=(channels, width, height),\n",
    "                   activation='relu'))"
   ]
  },
  {
   "cell_type": "code",
   "execution_count": null,
   "id": "transparent-bowling",
   "metadata": {},
   "outputs": [],
   "source": [
    "network.add(MaxPooling2D(pool_size=(2, 2)))"
   ]
  },
  {
   "cell_type": "code",
   "execution_count": null,
   "id": "worthy-friendly",
   "metadata": {},
   "outputs": [],
   "source": [
    "network.add(Dropout(0.5))"
   ]
  },
  {
   "cell_type": "markdown",
   "id": "functional-master",
   "metadata": {},
   "source": [
    "### network.add(Flatten())"
   ]
  },
  {
   "cell_type": "code",
   "execution_count": null,
   "id": "behavioral-amino",
   "metadata": {},
   "outputs": [],
   "source": [
    "network.add(Dense(128, activation=\"relu\"))"
   ]
  },
  {
   "cell_type": "code",
   "execution_count": null,
   "id": "wound-catalyst",
   "metadata": {},
   "outputs": [],
   "source": [
    "network.add(Dropout(0.5))"
   ]
  },
  {
   "cell_type": "code",
   "execution_count": null,
   "id": "apparent-marker",
   "metadata": {},
   "outputs": [],
   "source": [
    "network.add(Dense(number_of_classes, activation=\"softmax\"))\n"
   ]
  },
  {
   "cell_type": "code",
   "execution_count": null,
   "id": "electric-steering",
   "metadata": {},
   "outputs": [],
   "source": [
    "network.compile(loss=\"categorical_crossentropy\", \n",
    "                optimizer=\"rmsprop\", \n",
    "                metrics=[\"accuracy\"])"
   ]
  },
  {
   "cell_type": "code",
   "execution_count": null,
   "id": "prostate-depression",
   "metadata": {},
   "outputs": [],
   "source": [
    "network.fit(features_train,\n",
    "            target_train, # Target\n",
    "            epochs=2, \n",
    "            verbose=0, \n",
    "            batch_size=1000, \n",
    "            validation_data=(features_test, target_test)) "
   ]
  },
  {
   "cell_type": "markdown",
   "id": "operational-delta",
   "metadata": {},
   "source": [
    "## Conclusion"
   ]
  },
  {
   "cell_type": "markdown",
   "id": "excited-minority",
   "metadata": {},
   "source": [
    "#### \n",
    "1. Used scikit-learn to fit neural network classifier\n",
    "2. Used Keras to fit neural network classifier\n",
    "3. Used a convolutional neural network to classify the images"
   ]
  },
  {
   "cell_type": "code",
   "execution_count": null,
   "id": "silent-debate",
   "metadata": {},
   "outputs": [],
   "source": []
  }
 ],
 "metadata": {
  "kernelspec": {
   "display_name": "Python 3",
   "language": "python",
   "name": "python3"
  },
  "language_info": {
   "codemirror_mode": {
    "name": "ipython",
    "version": 3
   },
   "file_extension": ".py",
   "mimetype": "text/x-python",
   "name": "python",
   "nbconvert_exporter": "python",
   "pygments_lexer": "ipython3",
   "version": "3.8.3"
  }
 },
 "nbformat": 4,
 "nbformat_minor": 5
}
