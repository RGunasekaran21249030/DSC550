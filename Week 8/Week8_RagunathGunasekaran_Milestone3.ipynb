{
 "cells": [
  {
   "cell_type": "markdown",
   "id": "alive-bridal",
   "metadata": {},
   "source": [
    "# Sentiment Analysis of Product reviews\n",
    "\n",
    "Name : Raguath Gunasekaran"
   ]
  },
  {
   "cell_type": "markdown",
   "id": "muslim-modification",
   "metadata": {},
   "source": [
    "## Introduction\n",
    "\n",
    "Sentiment analysis, which is also known as opinion mining, studies people’s sentiments towards certain entities. [Ref 1]\n",
    "\n",
    "In recent days, Sentiment analysis has gain much attention  Sentiment analysis or opinion mining is one of the major tasks of NLP (Natural Language Processing) and Machine Learning. \n",
    "It's used to determine whether the given product review is positive, negative or neutral. Sentiment analysis is often performed on textual data to help businesses monitor brand and product sentiment in customer feedback, and understand customer need [ Ref 3 ]\n",
    "\n",
    "Business Success, The Product Owner should understand the customers mindset and their opinion. Sentiment analysis is extremely important to understand the customer mindset because it helps businesses quickly understand the overall opinions of their customers. \n",
    "By automatically sorting the sentiment behind reviews, social media conversations. once we understand the sentiment, Product owner can react to solve the issue or enhance the features of the product to attract the customer. [ Ref 3 ]\n",
    "\n",
    "Python as a programming language has numerous uses such as Machine Learning, AI, mobile applications, statistical , etc. As we know, AI, machine learning, and data analysis/analytics is where it has amassed most of its popularity. \n",
    "Python contains more libraries and packages is continually being employed which helped to solve complex industry issues, data-driven strategies, risk analysis etc."
   ]
  },
  {
   "cell_type": "markdown",
   "id": "quarterly-latex",
   "metadata": {},
   "source": [
    "## Business Understanding: Defining the Problem\n",
    "\n",
    "The business objective remained the same: The main goal of the project is to build a sentiment analysis predictive model to predict or determine to determined whether the product is satisying the customer or not. \n",
    "I am going to use different classification machine learning algorithms to get more accurate predictions through NLP.\n",
    "\n",
    "Defining the Target Variable : The Target variable is going to be target class. The Review prediction is going to be Positive, Negative or Netural and Review Text and Recommended IND  variable as a predictor"
   ]
  },
  {
   "cell_type": "markdown",
   "id": "induced-advice",
   "metadata": {},
   "source": [
    "## Data Understanding\n",
    "\n",
    "Data used in this project are online product reviews collected from Kaggle.com ( Women’s Clothing E-Commerce dataset )\n",
    "https://www.kaggle.com/nicapotato/womens-ecommerce-clothing-reviews\n",
    "\n",
    "The format of the dataset for this case study is CSV. The data contains below variables.\n",
    "Pandas library used to load the data from csv to Dataframe.\n",
    "\n",
    "Clothing ID: The specific Clothing being reviewed.\n",
    "\n",
    "Age: Age of the Reviewer.\n",
    "\n",
    "Title: Review Title.\n",
    "\n",
    "Review Text: detail content of the Product Review.\n",
    "\n",
    "Rating: Score from 1 Worst, to 5 Best.\n",
    "\n",
    "Recommended IND: Customer recommends the product or not\n",
    "\n",
    "Positive Feedback Count: Number of other customers who found this review positive.\n",
    "\n",
    "Division Name: Product high level division.\n",
    "\n",
    "Department Name: Product department name.\n",
    "\n",
    "Class Name: Product class name.\n"
   ]
  },
  {
   "cell_type": "markdown",
   "id": "reported-convertible",
   "metadata": {},
   "source": [
    "#### Tools and Library to be used in this Project\n",
    "\n",
    "Python\n",
    "\n",
    "Pandas library\n",
    "\n",
    "scikit-learn library\n",
    "\n",
    "Matplot Library\n",
    "\n",
    "nltk Library\n",
    "\n",
    "Jupyter Notebook as an IDE.\n"
   ]
  },
  {
   "cell_type": "markdown",
   "id": "dress-sleeping",
   "metadata": {},
   "source": [
    "## Data Preparation\n",
    "Based on the reading, “data scientists usually spend 70% of the project time here, preprocessing and exploring the data”. So, the Data Preparation is important for predictive analytics project. In this project, we need to make sure the data is suitable and well prepared for model. While preparing the Data, we need to verify the metadata of the given dataset and need to understand very clearly about data patterns, relationships etc\n",
    "\n",
    "As part of suggestion from Professor, I am adding more detail on this.\n",
    "\n",
    "Review Text is going to be predictor variable and Review Text is the text collected from customers. \n",
    "\n",
    "Recommended will be used as target variable and Recommended is collected from customer which defines the product 1 is recommended, 0 is not recommended\n",
    "\n",
    "Based on the Rating, Review and Recommended, I am going to create one Sentiment Classifier which provides good or bad Review.\n",
    "\n",
    "As part of Text Processing, I am planning to use ‘CountVectorizer’ from the scikit-learn and CountVectorizer develops a vector of all the words in the Review Text. Then apply  Logistic Regression ( binary classification ), SVM, Random Forest, Naive Bayes and other Algorithms to find the high accurate model.\n",
    "\n",
    "Also based on the Reivew text, we find the most common used words for positive and most common words for Negative."
   ]
  },
  {
   "cell_type": "markdown",
   "id": "double-province",
   "metadata": {},
   "source": [
    "### Importing packages and loading data"
   ]
  },
  {
   "cell_type": "code",
   "execution_count": 231,
   "id": "romance-newton",
   "metadata": {},
   "outputs": [],
   "source": [
    "# data processing\n",
    "import pandas as pd\n",
    "\n",
    "# linear algebra\n",
    "import numpy as np\n",
    "\n",
    "# data visualization\n",
    "import matplotlib.pyplot as plt\n",
    "%matplotlib inline\n",
    "import seaborn as sns\n",
    "\n",
    "# Word Processing\n",
    "import re\n",
    "import string\n",
    "from wordcloud import WordCloud\n",
    "\n",
    "#nltk for Text preprocessing \n",
    "import nltk\n",
    "from nltk.corpus import stopwords\n",
    "from nltk.stem import PorterStemmer\n",
    "from nltk.tokenize import sent_tokenize, word_tokenize\n",
    "from nltk.stem.wordnet import WordNetLemmatizer\n",
    "\n",
    "# Machine Learning Models\n",
    "from sklearn.model_selection import train_test_split\n",
    "from sklearn.pipeline import Pipeline\n",
    "from sklearn.feature_extraction.text import CountVectorizer, TfidfTransformer\n",
    "\n",
    "from sklearn.linear_model import LogisticRegression\n",
    "from sklearn.linear_model import LinearRegression\n",
    "from sklearn.naive_bayes import MultinomialNB\n",
    "from sklearn.linear_model import SGDClassifier\n",
    "from sklearn.ensemble import RandomForestClassifier\n",
    "from sklearn.metrics import confusion_matrix, accuracy_score, classification_report\n",
    "\n",
    "import yellowbrick\n",
    "from yellowbrick.features import Rank2D\n",
    "\n",
    "from sklearn.linear_model import LogisticRegression\n",
    "from yellowbrick.classifier import ConfusionMatrix\n",
    "from yellowbrick.classifier import ClassificationReport\n",
    "from yellowbrick.classifier import ROCAUC"
   ]
  },
  {
   "cell_type": "code",
   "execution_count": 173,
   "id": "authentic-nancy",
   "metadata": {},
   "outputs": [
    {
     "data": {
      "text/html": [
       "<div>\n",
       "<style scoped>\n",
       "    .dataframe tbody tr th:only-of-type {\n",
       "        vertical-align: middle;\n",
       "    }\n",
       "\n",
       "    .dataframe tbody tr th {\n",
       "        vertical-align: top;\n",
       "    }\n",
       "\n",
       "    .dataframe thead th {\n",
       "        text-align: right;\n",
       "    }\n",
       "</style>\n",
       "<table border=\"1\" class=\"dataframe\">\n",
       "  <thead>\n",
       "    <tr style=\"text-align: right;\">\n",
       "      <th></th>\n",
       "      <th>Clothing ID</th>\n",
       "      <th>Age</th>\n",
       "      <th>Title</th>\n",
       "      <th>Review Text</th>\n",
       "      <th>Rating</th>\n",
       "      <th>Recommended IND</th>\n",
       "      <th>Positive Feedback Count</th>\n",
       "      <th>Division Name</th>\n",
       "      <th>Department Name</th>\n",
       "      <th>Class Name</th>\n",
       "    </tr>\n",
       "  </thead>\n",
       "  <tbody>\n",
       "    <tr>\n",
       "      <th>0</th>\n",
       "      <td>767</td>\n",
       "      <td>33</td>\n",
       "      <td>NaN</td>\n",
       "      <td>Absolutely wonderful - silky and sexy and comf...</td>\n",
       "      <td>4</td>\n",
       "      <td>1</td>\n",
       "      <td>0</td>\n",
       "      <td>Initmates</td>\n",
       "      <td>Intimate</td>\n",
       "      <td>Intimates</td>\n",
       "    </tr>\n",
       "    <tr>\n",
       "      <th>1</th>\n",
       "      <td>1080</td>\n",
       "      <td>34</td>\n",
       "      <td>NaN</td>\n",
       "      <td>Love this dress!  it's sooo pretty.  i happene...</td>\n",
       "      <td>5</td>\n",
       "      <td>1</td>\n",
       "      <td>4</td>\n",
       "      <td>General</td>\n",
       "      <td>Dresses</td>\n",
       "      <td>Dresses</td>\n",
       "    </tr>\n",
       "    <tr>\n",
       "      <th>2</th>\n",
       "      <td>1077</td>\n",
       "      <td>60</td>\n",
       "      <td>Some major design flaws</td>\n",
       "      <td>I had such high hopes for this dress and reall...</td>\n",
       "      <td>3</td>\n",
       "      <td>0</td>\n",
       "      <td>0</td>\n",
       "      <td>General</td>\n",
       "      <td>Dresses</td>\n",
       "      <td>Dresses</td>\n",
       "    </tr>\n",
       "    <tr>\n",
       "      <th>3</th>\n",
       "      <td>1049</td>\n",
       "      <td>50</td>\n",
       "      <td>My favorite buy!</td>\n",
       "      <td>I love, love, love this jumpsuit. it's fun, fl...</td>\n",
       "      <td>5</td>\n",
       "      <td>1</td>\n",
       "      <td>0</td>\n",
       "      <td>General Petite</td>\n",
       "      <td>Bottoms</td>\n",
       "      <td>Pants</td>\n",
       "    </tr>\n",
       "    <tr>\n",
       "      <th>4</th>\n",
       "      <td>847</td>\n",
       "      <td>47</td>\n",
       "      <td>Flattering shirt</td>\n",
       "      <td>This shirt is very flattering to all due to th...</td>\n",
       "      <td>5</td>\n",
       "      <td>1</td>\n",
       "      <td>6</td>\n",
       "      <td>General</td>\n",
       "      <td>Tops</td>\n",
       "      <td>Blouses</td>\n",
       "    </tr>\n",
       "  </tbody>\n",
       "</table>\n",
       "</div>"
      ],
      "text/plain": [
       "   Clothing ID  Age                    Title  \\\n",
       "0          767   33                      NaN   \n",
       "1         1080   34                      NaN   \n",
       "2         1077   60  Some major design flaws   \n",
       "3         1049   50         My favorite buy!   \n",
       "4          847   47         Flattering shirt   \n",
       "\n",
       "                                         Review Text  Rating  Recommended IND  \\\n",
       "0  Absolutely wonderful - silky and sexy and comf...       4                1   \n",
       "1  Love this dress!  it's sooo pretty.  i happene...       5                1   \n",
       "2  I had such high hopes for this dress and reall...       3                0   \n",
       "3  I love, love, love this jumpsuit. it's fun, fl...       5                1   \n",
       "4  This shirt is very flattering to all due to th...       5                1   \n",
       "\n",
       "   Positive Feedback Count   Division Name Department Name Class Name  \n",
       "0                        0       Initmates        Intimate  Intimates  \n",
       "1                        4         General         Dresses    Dresses  \n",
       "2                        0         General         Dresses    Dresses  \n",
       "3                        0  General Petite         Bottoms      Pants  \n",
       "4                        6         General            Tops    Blouses  "
      ]
     },
     "execution_count": 173,
     "metadata": {},
     "output_type": "execute_result"
    }
   ],
   "source": [
    "ProductReview_df = pd.read_csv('Womens Clothing E-Commerce Reviews.csv', header=0,index_col=0)\n",
    "ProductReview_df.head()"
   ]
  },
  {
   "cell_type": "markdown",
   "id": "little-print",
   "metadata": {},
   "source": [
    "####  Metadata of the Dataframe"
   ]
  },
  {
   "cell_type": "code",
   "execution_count": 174,
   "id": "regional-irish",
   "metadata": {},
   "outputs": [
    {
     "name": "stdout",
     "output_type": "stream",
     "text": [
      "<class 'pandas.core.frame.DataFrame'>\n",
      "Int64Index: 23486 entries, 0 to 23485\n",
      "Data columns (total 10 columns):\n",
      " #   Column                   Non-Null Count  Dtype \n",
      "---  ------                   --------------  ----- \n",
      " 0   Clothing ID              23486 non-null  int64 \n",
      " 1   Age                      23486 non-null  int64 \n",
      " 2   Title                    19676 non-null  object\n",
      " 3   Review Text              22641 non-null  object\n",
      " 4   Rating                   23486 non-null  int64 \n",
      " 5   Recommended IND          23486 non-null  int64 \n",
      " 6   Positive Feedback Count  23486 non-null  int64 \n",
      " 7   Division Name            23472 non-null  object\n",
      " 8   Department Name          23472 non-null  object\n",
      " 9   Class Name               23472 non-null  object\n",
      "dtypes: int64(5), object(5)\n",
      "memory usage: 2.0+ MB\n"
     ]
    }
   ],
   "source": [
    "ProductReview_df.info()"
   ]
  },
  {
   "cell_type": "code",
   "execution_count": 175,
   "id": "sublime-catalyst",
   "metadata": {},
   "outputs": [
    {
     "name": "stdout",
     "output_type": "stream",
     "text": [
      "The dimension of the table is: \n"
     ]
    },
    {
     "data": {
      "text/plain": [
       "(23486, 10)"
      ]
     },
     "execution_count": 175,
     "metadata": {},
     "output_type": "execute_result"
    }
   ],
   "source": [
    "# Step 2:  check the dimension of the table\n",
    "print(\"The dimension of the table is: \")\n",
    "ProductReview_df.shape"
   ]
  },
  {
   "cell_type": "markdown",
   "id": "automated-match",
   "metadata": {},
   "source": [
    "## EDA - Exploratory data analysis"
   ]
  },
  {
   "cell_type": "markdown",
   "id": "searching-castle",
   "metadata": {},
   "source": [
    "#### Summarized Data"
   ]
  },
  {
   "cell_type": "code",
   "execution_count": 176,
   "id": "together-fantasy",
   "metadata": {},
   "outputs": [
    {
     "name": "stdout",
     "output_type": "stream",
     "text": [
      "Describe Data\n",
      "        Clothing ID           Age        Rating  Recommended IND  \\\n",
      "count  23486.000000  23486.000000  23486.000000     23486.000000   \n",
      "mean     918.118709     43.198544      4.196032         0.822362   \n",
      "std      203.298980     12.279544      1.110031         0.382216   \n",
      "min        0.000000     18.000000      1.000000         0.000000   \n",
      "25%      861.000000     34.000000      4.000000         1.000000   \n",
      "50%      936.000000     41.000000      5.000000         1.000000   \n",
      "75%     1078.000000     52.000000      5.000000         1.000000   \n",
      "max     1205.000000     99.000000      5.000000         1.000000   \n",
      "\n",
      "       Positive Feedback Count  \n",
      "count             23486.000000  \n",
      "mean                  2.535936  \n",
      "std                   5.702202  \n",
      "min                   0.000000  \n",
      "25%                   0.000000  \n",
      "50%                   1.000000  \n",
      "75%                   3.000000  \n",
      "max                 122.000000  \n",
      "Summarized Data\n",
      "           Title                                        Review Text  \\\n",
      "count      19676                                              22641   \n",
      "unique     13993                                              22634   \n",
      "top     Love it!  Perfect fit and i've gotten so many compliment...   \n",
      "freq         136                                                  3   \n",
      "\n",
      "       Division Name Department Name Class Name  \n",
      "count          23472           23472      23472  \n",
      "unique             3               6         20  \n",
      "top          General            Tops    Dresses  \n",
      "freq           13850           10468       6319  \n"
     ]
    }
   ],
   "source": [
    "print(\"Describe Data\")\n",
    "print(ProductReview_df.describe())\n",
    "print(\"Summarized Data\")\n",
    "print(ProductReview_df.describe(include=['O']))"
   ]
  },
  {
   "cell_type": "markdown",
   "id": "happy-coupon",
   "metadata": {},
   "source": [
    "####  Checking Nulls and Renaming the column names"
   ]
  },
  {
   "cell_type": "code",
   "execution_count": 177,
   "id": "reverse-delay",
   "metadata": {},
   "outputs": [
    {
     "data": {
      "text/plain": [
       "Clothing ID                   0\n",
       "Age                           0\n",
       "Title                      3810\n",
       "Review Text                 845\n",
       "Rating                        0\n",
       "Recommended IND               0\n",
       "Positive Feedback Count       0\n",
       "Division Name                14\n",
       "Department Name              14\n",
       "Class Name                   14\n",
       "dtype: int64"
      ]
     },
     "execution_count": 177,
     "metadata": {},
     "output_type": "execute_result"
    }
   ],
   "source": [
    "ProductReview_df.isnull().sum()"
   ]
  },
  {
   "cell_type": "code",
   "execution_count": 178,
   "id": "annual-niagara",
   "metadata": {},
   "outputs": [
    {
     "data": {
      "text/html": [
       "<div>\n",
       "<style scoped>\n",
       "    .dataframe tbody tr th:only-of-type {\n",
       "        vertical-align: middle;\n",
       "    }\n",
       "\n",
       "    .dataframe tbody tr th {\n",
       "        vertical-align: top;\n",
       "    }\n",
       "\n",
       "    .dataframe thead th {\n",
       "        text-align: right;\n",
       "    }\n",
       "</style>\n",
       "<table border=\"1\" class=\"dataframe\">\n",
       "  <thead>\n",
       "    <tr style=\"text-align: right;\">\n",
       "      <th></th>\n",
       "      <th>Clothing ID</th>\n",
       "      <th>Age</th>\n",
       "      <th>Title</th>\n",
       "      <th>Review</th>\n",
       "      <th>Rating</th>\n",
       "      <th>Recommended</th>\n",
       "      <th>Positive Feedback Count</th>\n",
       "      <th>Division Name</th>\n",
       "      <th>Department Name</th>\n",
       "      <th>Class Name</th>\n",
       "    </tr>\n",
       "  </thead>\n",
       "  <tbody>\n",
       "    <tr>\n",
       "      <th>0</th>\n",
       "      <td>767</td>\n",
       "      <td>33</td>\n",
       "      <td>NaN</td>\n",
       "      <td>Absolutely wonderful - silky and sexy and comf...</td>\n",
       "      <td>4</td>\n",
       "      <td>1</td>\n",
       "      <td>0</td>\n",
       "      <td>Initmates</td>\n",
       "      <td>Intimate</td>\n",
       "      <td>Intimates</td>\n",
       "    </tr>\n",
       "    <tr>\n",
       "      <th>1</th>\n",
       "      <td>1080</td>\n",
       "      <td>34</td>\n",
       "      <td>NaN</td>\n",
       "      <td>Love this dress!  it's sooo pretty.  i happene...</td>\n",
       "      <td>5</td>\n",
       "      <td>1</td>\n",
       "      <td>4</td>\n",
       "      <td>General</td>\n",
       "      <td>Dresses</td>\n",
       "      <td>Dresses</td>\n",
       "    </tr>\n",
       "    <tr>\n",
       "      <th>2</th>\n",
       "      <td>1077</td>\n",
       "      <td>60</td>\n",
       "      <td>Some major design flaws</td>\n",
       "      <td>I had such high hopes for this dress and reall...</td>\n",
       "      <td>3</td>\n",
       "      <td>0</td>\n",
       "      <td>0</td>\n",
       "      <td>General</td>\n",
       "      <td>Dresses</td>\n",
       "      <td>Dresses</td>\n",
       "    </tr>\n",
       "    <tr>\n",
       "      <th>3</th>\n",
       "      <td>1049</td>\n",
       "      <td>50</td>\n",
       "      <td>My favorite buy!</td>\n",
       "      <td>I love, love, love this jumpsuit. it's fun, fl...</td>\n",
       "      <td>5</td>\n",
       "      <td>1</td>\n",
       "      <td>0</td>\n",
       "      <td>General Petite</td>\n",
       "      <td>Bottoms</td>\n",
       "      <td>Pants</td>\n",
       "    </tr>\n",
       "    <tr>\n",
       "      <th>4</th>\n",
       "      <td>847</td>\n",
       "      <td>47</td>\n",
       "      <td>Flattering shirt</td>\n",
       "      <td>This shirt is very flattering to all due to th...</td>\n",
       "      <td>5</td>\n",
       "      <td>1</td>\n",
       "      <td>6</td>\n",
       "      <td>General</td>\n",
       "      <td>Tops</td>\n",
       "      <td>Blouses</td>\n",
       "    </tr>\n",
       "  </tbody>\n",
       "</table>\n",
       "</div>"
      ],
      "text/plain": [
       "   Clothing ID  Age                    Title  \\\n",
       "0          767   33                      NaN   \n",
       "1         1080   34                      NaN   \n",
       "2         1077   60  Some major design flaws   \n",
       "3         1049   50         My favorite buy!   \n",
       "4          847   47         Flattering shirt   \n",
       "\n",
       "                                              Review  Rating  Recommended  \\\n",
       "0  Absolutely wonderful - silky and sexy and comf...       4            1   \n",
       "1  Love this dress!  it's sooo pretty.  i happene...       5            1   \n",
       "2  I had such high hopes for this dress and reall...       3            0   \n",
       "3  I love, love, love this jumpsuit. it's fun, fl...       5            1   \n",
       "4  This shirt is very flattering to all due to th...       5            1   \n",
       "\n",
       "   Positive Feedback Count   Division Name Department Name Class Name  \n",
       "0                        0       Initmates        Intimate  Intimates  \n",
       "1                        4         General         Dresses    Dresses  \n",
       "2                        0         General         Dresses    Dresses  \n",
       "3                        0  General Petite         Bottoms      Pants  \n",
       "4                        6         General            Tops    Blouses  "
      ]
     },
     "execution_count": 178,
     "metadata": {},
     "output_type": "execute_result"
    }
   ],
   "source": [
    "ProductReview_df = ProductReview_df.rename(columns={\"Recommended IND\": \"Recommended\", \"Review Text\": \"Review\"})\n",
    "ProductReview_df.head()"
   ]
  },
  {
   "cell_type": "markdown",
   "id": "gentle-distributor",
   "metadata": {},
   "source": [
    "####  identify the Correlation between Variables"
   ]
  },
  {
   "cell_type": "code",
   "execution_count": 179,
   "id": "rapid-produce",
   "metadata": {},
   "outputs": [
    {
     "data": {
      "text/html": [
       "<div>\n",
       "<style scoped>\n",
       "    .dataframe tbody tr th:only-of-type {\n",
       "        vertical-align: middle;\n",
       "    }\n",
       "\n",
       "    .dataframe tbody tr th {\n",
       "        vertical-align: top;\n",
       "    }\n",
       "\n",
       "    .dataframe thead th {\n",
       "        text-align: right;\n",
       "    }\n",
       "</style>\n",
       "<table border=\"1\" class=\"dataframe\">\n",
       "  <thead>\n",
       "    <tr style=\"text-align: right;\">\n",
       "      <th></th>\n",
       "      <th>Clothing ID</th>\n",
       "      <th>Age</th>\n",
       "      <th>Rating</th>\n",
       "      <th>Recommended</th>\n",
       "      <th>Positive Feedback Count</th>\n",
       "    </tr>\n",
       "  </thead>\n",
       "  <tbody>\n",
       "    <tr>\n",
       "      <th>Clothing ID</th>\n",
       "      <td>1.000000</td>\n",
       "      <td>0.017972</td>\n",
       "      <td>-0.018879</td>\n",
       "      <td>-0.016206</td>\n",
       "      <td>0.046356</td>\n",
       "    </tr>\n",
       "    <tr>\n",
       "      <th>Age</th>\n",
       "      <td>0.017972</td>\n",
       "      <td>1.000000</td>\n",
       "      <td>0.026831</td>\n",
       "      <td>0.030622</td>\n",
       "      <td>0.043079</td>\n",
       "    </tr>\n",
       "    <tr>\n",
       "      <th>Rating</th>\n",
       "      <td>-0.018879</td>\n",
       "      <td>0.026831</td>\n",
       "      <td>1.000000</td>\n",
       "      <td>0.792336</td>\n",
       "      <td>-0.064961</td>\n",
       "    </tr>\n",
       "    <tr>\n",
       "      <th>Recommended</th>\n",
       "      <td>-0.016206</td>\n",
       "      <td>0.030622</td>\n",
       "      <td>0.792336</td>\n",
       "      <td>1.000000</td>\n",
       "      <td>-0.069045</td>\n",
       "    </tr>\n",
       "    <tr>\n",
       "      <th>Positive Feedback Count</th>\n",
       "      <td>0.046356</td>\n",
       "      <td>0.043079</td>\n",
       "      <td>-0.064961</td>\n",
       "      <td>-0.069045</td>\n",
       "      <td>1.000000</td>\n",
       "    </tr>\n",
       "  </tbody>\n",
       "</table>\n",
       "</div>"
      ],
      "text/plain": [
       "                         Clothing ID       Age    Rating  Recommended  \\\n",
       "Clothing ID                 1.000000  0.017972 -0.018879    -0.016206   \n",
       "Age                         0.017972  1.000000  0.026831     0.030622   \n",
       "Rating                     -0.018879  0.026831  1.000000     0.792336   \n",
       "Recommended                -0.016206  0.030622  0.792336     1.000000   \n",
       "Positive Feedback Count     0.046356  0.043079 -0.064961    -0.069045   \n",
       "\n",
       "                         Positive Feedback Count  \n",
       "Clothing ID                             0.046356  \n",
       "Age                                     0.043079  \n",
       "Rating                                 -0.064961  \n",
       "Recommended                            -0.069045  \n",
       "Positive Feedback Count                 1.000000  "
      ]
     },
     "execution_count": 179,
     "metadata": {},
     "output_type": "execute_result"
    }
   ],
   "source": [
    "ProductReview_df.corr()"
   ]
  },
  {
   "cell_type": "markdown",
   "id": "indoor-catalog",
   "metadata": {},
   "source": [
    "#### Recommended Product Review - Analysis"
   ]
  },
  {
   "cell_type": "code",
   "execution_count": 180,
   "id": "excellent-isolation",
   "metadata": {},
   "outputs": [
    {
     "data": {
      "text/plain": [
       "Text(0.5, 1.0, 'Recommendation Analysis')"
      ]
     },
     "execution_count": 180,
     "metadata": {},
     "output_type": "execute_result"
    },
    {
     "data": {
      "image/png": "[encoded data removed]",
      "text/plain": [
       "<Figure size 432x288 with 1 Axes>"
      ]
     },
     "metadata": {
      "needs_background": "light"
     },
     "output_type": "display_data"
    }
   ],
   "source": [
    "ProductReview_df[\"Recommended\"].value_counts().plot(kind='bar')\n",
    "plt.xlabel(\"Recommended\")\n",
    "plt.ylabel(\"Counts of Reviews\")\n",
    "plt.title(\"Recommendation Analysis\")"
   ]
  },
  {
   "cell_type": "code",
   "execution_count": 181,
   "id": "chief-basin",
   "metadata": {},
   "outputs": [
    {
     "data": {
      "text/plain": [
       "Text(0.5, 1.0, 'Rating Analysis')"
      ]
     },
     "execution_count": 181,
     "metadata": {},
     "output_type": "execute_result"
    },
    {
     "data": {
      "image/png": "[encoded data removed]",
      "text/plain": [
       "<Figure size 432x288 with 1 Axes>"
      ]
     },
     "metadata": {},
     "output_type": "display_data"
    }
   ],
   "source": [
    "ProductReview_df[\"Rating\"].value_counts().plot(kind='pie')\n",
    "plt.xlabel(\"Ratings\")\n",
    "plt.ylabel(\"Counts of Reviews\")\n",
    "plt.title(\"Rating Analysis\")"
   ]
  },
  {
   "cell_type": "code",
   "execution_count": 182,
   "id": "demanding-toyota",
   "metadata": {},
   "outputs": [
    {
     "data": {
      "text/plain": [
       "Text(0.5, 1.0, 'Class Name Analysis')"
      ]
     },
     "execution_count": 182,
     "metadata": {},
     "output_type": "execute_result"
    },
    {
     "data": {
      "image/png": "[encoded data removed]",
      "text/plain": [
       "<Figure size 432x288 with 1 Axes>"
      ]
     },
     "metadata": {
      "needs_background": "light"
     },
     "output_type": "display_data"
    }
   ],
   "source": [
    "ProductReview_df[\"Class Name\"].value_counts().plot(kind='line')\n",
    "plt.xlabel(\"Class Name\")\n",
    "plt.ylabel(\"Counts of Reviews\")\n",
    "plt.title(\"Class Name Analysis\")"
   ]
  },
  {
   "cell_type": "code",
   "execution_count": 183,
   "id": "seasonal-equivalent",
   "metadata": {},
   "outputs": [
    {
     "data": {
      "image/png": "[encoded data removed]",
      "text/plain": [
       "<Figure size 1440x720 with 4 Axes>"
      ]
     },
     "metadata": {
      "needs_background": "light"
     },
     "output_type": "display_data"
    }
   ],
   "source": [
    "plt.rcParams['figure.figsize'] = (20, 10)\n",
    "\n",
    "# make subplots\n",
    "fig, axes = plt.subplots(nrows = 2, ncols = 2)\n",
    "\n",
    "# Specify the features of interest\n",
    "num_features = ['Age', 'Recommended', 'Division Name', 'Department Name']\n",
    "xaxes = num_features\n",
    "yaxes = ['Counts', 'Counts', 'Counts', 'Counts']\n",
    "\n",
    "# draw histograms\n",
    "axes = axes.ravel()\n",
    "for idx, ax in enumerate(axes):\n",
    "    ax.hist(ProductReview_df[num_features[idx]].dropna(), bins=40)\n",
    "    ax.set_xlabel(xaxes[idx], fontsize=20)\n",
    "    ax.set_ylabel(yaxes[idx], fontsize=20)\n",
    "    ax.tick_params(axis='both', labelsize=15)\n",
    "#plt.show()"
   ]
  },
  {
   "cell_type": "code",
   "execution_count": 184,
   "id": "durable-gothic",
   "metadata": {},
   "outputs": [
    {
     "data": {
      "text/plain": [
       "<AxesSubplot:xlabel='Department Name', ylabel='Positive Feedback Count'>"
      ]
     },
     "execution_count": 184,
     "metadata": {},
     "output_type": "execute_result"
    },
    {
     "data": {
      "image/png": "[encoded data removed]",
      "text/plain": [
       "<Figure size 1440x720 with 1 Axes>"
      ]
     },
     "metadata": {
      "needs_background": "light"
     },
     "output_type": "display_data"
    }
   ],
   "source": [
    "sns.barplot(x='Department Name', y='Positive Feedback Count', data=ProductReview_df)"
   ]
  },
  {
   "cell_type": "markdown",
   "id": "complimentary-least",
   "metadata": {},
   "source": [
    "### Remove Unwanted Columns"
   ]
  },
  {
   "cell_type": "code",
   "execution_count": 185,
   "id": "noticed-monthly",
   "metadata": {},
   "outputs": [
    {
     "data": {
      "text/html": [
       "<div>\n",
       "<style scoped>\n",
       "    .dataframe tbody tr th:only-of-type {\n",
       "        vertical-align: middle;\n",
       "    }\n",
       "\n",
       "    .dataframe tbody tr th {\n",
       "        vertical-align: top;\n",
       "    }\n",
       "\n",
       "    .dataframe thead th {\n",
       "        text-align: right;\n",
       "    }\n",
       "</style>\n",
       "<table border=\"1\" class=\"dataframe\">\n",
       "  <thead>\n",
       "    <tr style=\"text-align: right;\">\n",
       "      <th></th>\n",
       "      <th>Clothing ID</th>\n",
       "      <th>Age</th>\n",
       "      <th>Title</th>\n",
       "      <th>Review</th>\n",
       "      <th>Rating</th>\n",
       "      <th>Recommended</th>\n",
       "      <th>Positive Feedback Count</th>\n",
       "      <th>Department Name</th>\n",
       "      <th>Class Name</th>\n",
       "    </tr>\n",
       "  </thead>\n",
       "  <tbody>\n",
       "    <tr>\n",
       "      <th>0</th>\n",
       "      <td>767</td>\n",
       "      <td>33</td>\n",
       "      <td>NaN</td>\n",
       "      <td>Absolutely wonderful - silky and sexy and comf...</td>\n",
       "      <td>4</td>\n",
       "      <td>1</td>\n",
       "      <td>0</td>\n",
       "      <td>Intimate</td>\n",
       "      <td>Intimates</td>\n",
       "    </tr>\n",
       "    <tr>\n",
       "      <th>1</th>\n",
       "      <td>1080</td>\n",
       "      <td>34</td>\n",
       "      <td>NaN</td>\n",
       "      <td>Love this dress!  it's sooo pretty.  i happene...</td>\n",
       "      <td>5</td>\n",
       "      <td>1</td>\n",
       "      <td>4</td>\n",
       "      <td>Dresses</td>\n",
       "      <td>Dresses</td>\n",
       "    </tr>\n",
       "    <tr>\n",
       "      <th>2</th>\n",
       "      <td>1077</td>\n",
       "      <td>60</td>\n",
       "      <td>Some major design flaws</td>\n",
       "      <td>I had such high hopes for this dress and reall...</td>\n",
       "      <td>3</td>\n",
       "      <td>0</td>\n",
       "      <td>0</td>\n",
       "      <td>Dresses</td>\n",
       "      <td>Dresses</td>\n",
       "    </tr>\n",
       "    <tr>\n",
       "      <th>3</th>\n",
       "      <td>1049</td>\n",
       "      <td>50</td>\n",
       "      <td>My favorite buy!</td>\n",
       "      <td>I love, love, love this jumpsuit. it's fun, fl...</td>\n",
       "      <td>5</td>\n",
       "      <td>1</td>\n",
       "      <td>0</td>\n",
       "      <td>Bottoms</td>\n",
       "      <td>Pants</td>\n",
       "    </tr>\n",
       "    <tr>\n",
       "      <th>4</th>\n",
       "      <td>847</td>\n",
       "      <td>47</td>\n",
       "      <td>Flattering shirt</td>\n",
       "      <td>This shirt is very flattering to all due to th...</td>\n",
       "      <td>5</td>\n",
       "      <td>1</td>\n",
       "      <td>6</td>\n",
       "      <td>Tops</td>\n",
       "      <td>Blouses</td>\n",
       "    </tr>\n",
       "    <tr>\n",
       "      <th>...</th>\n",
       "      <td>...</td>\n",
       "      <td>...</td>\n",
       "      <td>...</td>\n",
       "      <td>...</td>\n",
       "      <td>...</td>\n",
       "      <td>...</td>\n",
       "      <td>...</td>\n",
       "      <td>...</td>\n",
       "      <td>...</td>\n",
       "    </tr>\n",
       "    <tr>\n",
       "      <th>23481</th>\n",
       "      <td>1104</td>\n",
       "      <td>34</td>\n",
       "      <td>Great dress for many occasions</td>\n",
       "      <td>I was very happy to snag this dress at such a ...</td>\n",
       "      <td>5</td>\n",
       "      <td>1</td>\n",
       "      <td>0</td>\n",
       "      <td>Dresses</td>\n",
       "      <td>Dresses</td>\n",
       "    </tr>\n",
       "    <tr>\n",
       "      <th>23482</th>\n",
       "      <td>862</td>\n",
       "      <td>48</td>\n",
       "      <td>Wish it was made of cotton</td>\n",
       "      <td>It reminds me of maternity clothes. soft, stre...</td>\n",
       "      <td>3</td>\n",
       "      <td>1</td>\n",
       "      <td>0</td>\n",
       "      <td>Tops</td>\n",
       "      <td>Knits</td>\n",
       "    </tr>\n",
       "    <tr>\n",
       "      <th>23483</th>\n",
       "      <td>1104</td>\n",
       "      <td>31</td>\n",
       "      <td>Cute, but see through</td>\n",
       "      <td>This fit well, but the top was very see throug...</td>\n",
       "      <td>3</td>\n",
       "      <td>0</td>\n",
       "      <td>1</td>\n",
       "      <td>Dresses</td>\n",
       "      <td>Dresses</td>\n",
       "    </tr>\n",
       "    <tr>\n",
       "      <th>23484</th>\n",
       "      <td>1084</td>\n",
       "      <td>28</td>\n",
       "      <td>Very cute dress, perfect for summer parties an...</td>\n",
       "      <td>I bought this dress for a wedding i have this ...</td>\n",
       "      <td>3</td>\n",
       "      <td>1</td>\n",
       "      <td>2</td>\n",
       "      <td>Dresses</td>\n",
       "      <td>Dresses</td>\n",
       "    </tr>\n",
       "    <tr>\n",
       "      <th>23485</th>\n",
       "      <td>1104</td>\n",
       "      <td>52</td>\n",
       "      <td>Please make more like this one!</td>\n",
       "      <td>This dress in a lovely platinum is feminine an...</td>\n",
       "      <td>5</td>\n",
       "      <td>1</td>\n",
       "      <td>22</td>\n",
       "      <td>Dresses</td>\n",
       "      <td>Dresses</td>\n",
       "    </tr>\n",
       "  </tbody>\n",
       "</table>\n",
       "<p>23486 rows × 9 columns</p>\n",
       "</div>"
      ],
      "text/plain": [
       "       Clothing ID  Age                                              Title  \\\n",
       "0              767   33                                                NaN   \n",
       "1             1080   34                                                NaN   \n",
       "2             1077   60                            Some major design flaws   \n",
       "3             1049   50                                   My favorite buy!   \n",
       "4              847   47                                   Flattering shirt   \n",
       "...            ...  ...                                                ...   \n",
       "23481         1104   34                     Great dress for many occasions   \n",
       "23482          862   48                         Wish it was made of cotton   \n",
       "23483         1104   31                              Cute, but see through   \n",
       "23484         1084   28  Very cute dress, perfect for summer parties an...   \n",
       "23485         1104   52                    Please make more like this one!   \n",
       "\n",
       "                                                  Review  Rating  Recommended  \\\n",
       "0      Absolutely wonderful - silky and sexy and comf...       4            1   \n",
       "1      Love this dress!  it's sooo pretty.  i happene...       5            1   \n",
       "2      I had such high hopes for this dress and reall...       3            0   \n",
       "3      I love, love, love this jumpsuit. it's fun, fl...       5            1   \n",
       "4      This shirt is very flattering to all due to th...       5            1   \n",
       "...                                                  ...     ...          ...   \n",
       "23481  I was very happy to snag this dress at such a ...       5            1   \n",
       "23482  It reminds me of maternity clothes. soft, stre...       3            1   \n",
       "23483  This fit well, but the top was very see throug...       3            0   \n",
       "23484  I bought this dress for a wedding i have this ...       3            1   \n",
       "23485  This dress in a lovely platinum is feminine an...       5            1   \n",
       "\n",
       "       Positive Feedback Count Department Name Class Name  \n",
       "0                            0        Intimate  Intimates  \n",
       "1                            4         Dresses    Dresses  \n",
       "2                            0         Dresses    Dresses  \n",
       "3                            0         Bottoms      Pants  \n",
       "4                            6            Tops    Blouses  \n",
       "...                        ...             ...        ...  \n",
       "23481                        0         Dresses    Dresses  \n",
       "23482                        0            Tops      Knits  \n",
       "23483                        1         Dresses    Dresses  \n",
       "23484                        2         Dresses    Dresses  \n",
       "23485                       22         Dresses    Dresses  \n",
       "\n",
       "[23486 rows x 9 columns]"
      ]
     },
     "execution_count": 185,
     "metadata": {},
     "output_type": "execute_result"
    }
   ],
   "source": [
    "ProductReview_df.drop(columns=['Division Name'])"
   ]
  },
  {
   "cell_type": "markdown",
   "id": "aggressive-collectible",
   "metadata": {},
   "source": [
    "###  Handling Missing Values"
   ]
  },
  {
   "cell_type": "code",
   "execution_count": 186,
   "id": "searching-field",
   "metadata": {},
   "outputs": [],
   "source": [
    "# fill with the most represented value\n",
    "def fill_na_most(data, inplace=True):\n",
    "    return ProductReview_df.fillna('NoValue', inplace=inplace)\n",
    "\n",
    "fill_na_most(ProductReview_df['Title'])\n",
    "fill_na_most(ProductReview_df['Review'])"
   ]
  },
  {
   "cell_type": "code",
   "execution_count": 187,
   "id": "criminal-orange",
   "metadata": {},
   "outputs": [
    {
     "data": {
      "text/plain": [
       "Clothing ID                0\n",
       "Age                        0\n",
       "Title                      0\n",
       "Review                     0\n",
       "Rating                     0\n",
       "Recommended                0\n",
       "Positive Feedback Count    0\n",
       "Division Name              0\n",
       "Department Name            0\n",
       "Class Name                 0\n",
       "dtype: int64"
      ]
     },
     "execution_count": 187,
     "metadata": {},
     "output_type": "execute_result"
    }
   ],
   "source": [
    "ProductReview_df.isna().sum()"
   ]
  },
  {
   "cell_type": "code",
   "execution_count": 188,
   "id": "following-monte",
   "metadata": {},
   "outputs": [
    {
     "data": {
      "text/plain": [
       "Clothing ID                0\n",
       "Age                        0\n",
       "Title                      0\n",
       "Review                     0\n",
       "Rating                     0\n",
       "Recommended                0\n",
       "Positive Feedback Count    0\n",
       "Division Name              0\n",
       "Department Name            0\n",
       "Class Name                 0\n",
       "dtype: int64"
      ]
     },
     "execution_count": 188,
     "metadata": {},
     "output_type": "execute_result"
    }
   ],
   "source": [
    "ProductReview_df.isna().sum()"
   ]
  },
  {
   "cell_type": "code",
   "execution_count": 189,
   "id": "acute-arbitration",
   "metadata": {},
   "outputs": [
    {
     "data": {
      "text/plain": [
       "Clothing ID                0\n",
       "Age                        0\n",
       "Title                      0\n",
       "Review                     0\n",
       "Rating                     0\n",
       "Recommended                0\n",
       "Positive Feedback Count    0\n",
       "Division Name              0\n",
       "Department Name            0\n",
       "Class Name                 0\n",
       "dtype: int64"
      ]
     },
     "execution_count": 189,
     "metadata": {},
     "output_type": "execute_result"
    }
   ],
   "source": [
    "ProductReview_df.isnull().sum()"
   ]
  },
  {
   "cell_type": "code",
   "execution_count": 235,
   "id": "noted-people",
   "metadata": {},
   "outputs": [],
   "source": [
    "ProductReview_df.dropna(inplace = True)"
   ]
  },
  {
   "cell_type": "code",
   "execution_count": 190,
   "id": "danish-indianapolis",
   "metadata": {},
   "outputs": [
    {
     "data": {
      "text/plain": [
       "23486"
      ]
     },
     "execution_count": 190,
     "metadata": {},
     "output_type": "execute_result"
    }
   ],
   "source": [
    "len(ProductReview_df)"
   ]
  },
  {
   "cell_type": "markdown",
   "id": "august-taste",
   "metadata": {},
   "source": [
    "### Text preprocessing\n",
    "The below are steps we need to follow for the text preprocessing through Natural Language Tool Kit (NLTK)\n",
    "\n",
    "Lowercase\n",
    "\n",
    "Removing Punctuation\n",
    "\n",
    "Tokenization\n",
    "\n",
    "Stopword Filtering\n",
    "\n",
    "Stemming"
   ]
  },
  {
   "cell_type": "markdown",
   "id": "distant-marathon",
   "metadata": {},
   "source": [
    "###  Token, Stopwords, numbers, lemma are the functions"
   ]
  },
  {
   "cell_type": "code",
   "execution_count": 191,
   "id": "severe-receiver",
   "metadata": {},
   "outputs": [],
   "source": [
    "def tokens(words):\n",
    "    words = re.sub(\"[^a-zA-Z]\",\" \", words)\n",
    "    text = words.lower().split()                   \n",
    "    return \" \".join(text)"
   ]
  },
  {
   "cell_type": "code",
   "execution_count": 192,
   "id": "trying-soviet",
   "metadata": {},
   "outputs": [],
   "source": [
    "def stopwords(review):\n",
    "    text = [word.lower() for word in review.split() if word.lower() not in stop_words and word.lower() not in clothes]\n",
    "    return \" \".join(text)"
   ]
  },
  {
   "cell_type": "code",
   "execution_count": 193,
   "id": "starting-travel",
   "metadata": {},
   "outputs": [],
   "source": [
    "def numbers(text):\n",
    "    new_text = []\n",
    "    for word in text.split():\n",
    "        if not re.search('\\d', word):\n",
    "            new_text.append(word)\n",
    "    return ' '.join(new_text)"
   ]
  },
  {
   "cell_type": "code",
   "execution_count": 198,
   "id": "verbal-turtle",
   "metadata": {},
   "outputs": [],
   "source": [
    "lem = WordNetLemmatizer()\n",
    "\n",
    "def lemma(text):\n",
    "    lem_text = [lem.lemmatize(word) for word in text.split()]\n",
    "    return \" \".join(lem_text)"
   ]
  },
  {
   "cell_type": "code",
   "execution_count": 199,
   "id": "irish-contamination",
   "metadata": {},
   "outputs": [],
   "source": [
    "ProductReview_df['Review_clear'] = ProductReview_df['Review'].apply(tokens)\n",
    "ProductReview_df['Review_clear'] = ProductReview_df['Review_clear'].astype(str)"
   ]
  },
  {
   "cell_type": "markdown",
   "id": "german-support",
   "metadata": {},
   "source": [
    "####  Considering workds for Clothes"
   ]
  },
  {
   "cell_type": "code",
   "execution_count": 200,
   "id": "otherwise-latest",
   "metadata": {},
   "outputs": [],
   "source": [
    "clothes =['shirt','attire','garb','T-shirt','jeans','swimsuit','coat','gym clothes','dress','color','wear','top','sweater','material','shirt','jeans','pant',\n",
    "          'skirt','order','white','black','fabric','blouse','sleeve','even', 'jacket']\n"
   ]
  },
  {
   "cell_type": "markdown",
   "id": "smart-express",
   "metadata": {},
   "source": [
    "#### Applying the Pre-processing for Text"
   ]
  },
  {
   "cell_type": "code",
   "execution_count": 225,
   "id": "economic-indonesia",
   "metadata": {},
   "outputs": [],
   "source": [
    "ProductReview_df['Review_clear'] = ProductReview_df['Review_clear'].apply(stopwords)\n",
    "ProductReview_df['Review_clear'] = ProductReview_df['Review_clear'].apply(numbers)\n",
    "ProductReview_df['Review_clear'] = ProductReview_df['Review_clear'].apply(stopwords)\n",
    "ProductReview_df['Review_clear'] = ProductReview_df['Review_clear'].apply(lemma)"
   ]
  },
  {
   "cell_type": "markdown",
   "id": "norwegian-steering",
   "metadata": {},
   "source": [
    "#### Postive and Negative Comments"
   ]
  },
  {
   "cell_type": "code",
   "execution_count": 226,
   "id": "statewide-cover",
   "metadata": {},
   "outputs": [
    {
     "data": {
      "text/html": [
       "<div>\n",
       "<style scoped>\n",
       "    .dataframe tbody tr th:only-of-type {\n",
       "        vertical-align: middle;\n",
       "    }\n",
       "\n",
       "    .dataframe tbody tr th {\n",
       "        vertical-align: top;\n",
       "    }\n",
       "\n",
       "    .dataframe thead th {\n",
       "        text-align: right;\n",
       "    }\n",
       "</style>\n",
       "<table border=\"1\" class=\"dataframe\">\n",
       "  <thead>\n",
       "    <tr style=\"text-align: right;\">\n",
       "      <th></th>\n",
       "      <th>Clothing ID</th>\n",
       "      <th>Age</th>\n",
       "      <th>Title</th>\n",
       "      <th>Review</th>\n",
       "      <th>Rating</th>\n",
       "      <th>Recommended</th>\n",
       "      <th>Positive Feedback Count</th>\n",
       "      <th>Division Name</th>\n",
       "      <th>Department Name</th>\n",
       "      <th>Class Name</th>\n",
       "      <th>Review_clear</th>\n",
       "    </tr>\n",
       "  </thead>\n",
       "  <tbody>\n",
       "    <tr>\n",
       "      <th>0</th>\n",
       "      <td>767</td>\n",
       "      <td>33</td>\n",
       "      <td>NoValue</td>\n",
       "      <td>Absolutely wonderful - silky and sexy and comf...</td>\n",
       "      <td>4</td>\n",
       "      <td>1</td>\n",
       "      <td>0</td>\n",
       "      <td>Initmates</td>\n",
       "      <td>Intimate</td>\n",
       "      <td>Intimates</td>\n",
       "      <td>absolutely wonderful silky sexy comfortable</td>\n",
       "    </tr>\n",
       "    <tr>\n",
       "      <th>1</th>\n",
       "      <td>1080</td>\n",
       "      <td>34</td>\n",
       "      <td>NoValue</td>\n",
       "      <td>Love this dress!  it's sooo pretty.  i happene...</td>\n",
       "      <td>5</td>\n",
       "      <td>1</td>\n",
       "      <td>4</td>\n",
       "      <td>General</td>\n",
       "      <td>Dresses</td>\n",
       "      <td>Dresses</td>\n",
       "      <td>love sooo pretty happened find store glad bc n...</td>\n",
       "    </tr>\n",
       "    <tr>\n",
       "      <th>3</th>\n",
       "      <td>1049</td>\n",
       "      <td>50</td>\n",
       "      <td>My favorite buy!</td>\n",
       "      <td>I love, love, love this jumpsuit. it's fun, fl...</td>\n",
       "      <td>5</td>\n",
       "      <td>1</td>\n",
       "      <td>0</td>\n",
       "      <td>General Petite</td>\n",
       "      <td>Bottoms</td>\n",
       "      <td>Pants</td>\n",
       "      <td>love love love jumpsuit fun flirty fabulous ev...</td>\n",
       "    </tr>\n",
       "    <tr>\n",
       "      <th>4</th>\n",
       "      <td>847</td>\n",
       "      <td>47</td>\n",
       "      <td>Flattering shirt</td>\n",
       "      <td>This shirt is very flattering to all due to th...</td>\n",
       "      <td>5</td>\n",
       "      <td>1</td>\n",
       "      <td>6</td>\n",
       "      <td>General</td>\n",
       "      <td>Tops</td>\n",
       "      <td>Blouses</td>\n",
       "      <td>flattering due adjustable front tie perfect le...</td>\n",
       "    </tr>\n",
       "    <tr>\n",
       "      <th>6</th>\n",
       "      <td>858</td>\n",
       "      <td>39</td>\n",
       "      <td>Cagrcoal shimmer fun</td>\n",
       "      <td>I aded this in my basket at hte last mintue to...</td>\n",
       "      <td>5</td>\n",
       "      <td>1</td>\n",
       "      <td>1</td>\n",
       "      <td>General Petite</td>\n",
       "      <td>Tops</td>\n",
       "      <td>Knits</td>\n",
       "      <td>aded basket hte last mintue see would look lik...</td>\n",
       "    </tr>\n",
       "  </tbody>\n",
       "</table>\n",
       "</div>"
      ],
      "text/plain": [
       "   Clothing ID  Age                 Title  \\\n",
       "0          767   33               NoValue   \n",
       "1         1080   34               NoValue   \n",
       "3         1049   50      My favorite buy!   \n",
       "4          847   47      Flattering shirt   \n",
       "6          858   39  Cagrcoal shimmer fun   \n",
       "\n",
       "                                              Review  Rating  Recommended  \\\n",
       "0  Absolutely wonderful - silky and sexy and comf...       4            1   \n",
       "1  Love this dress!  it's sooo pretty.  i happene...       5            1   \n",
       "3  I love, love, love this jumpsuit. it's fun, fl...       5            1   \n",
       "4  This shirt is very flattering to all due to th...       5            1   \n",
       "6  I aded this in my basket at hte last mintue to...       5            1   \n",
       "\n",
       "   Positive Feedback Count   Division Name Department Name Class Name  \\\n",
       "0                        0       Initmates        Intimate  Intimates   \n",
       "1                        4         General         Dresses    Dresses   \n",
       "3                        0  General Petite         Bottoms      Pants   \n",
       "4                        6         General            Tops    Blouses   \n",
       "6                        1  General Petite            Tops      Knits   \n",
       "\n",
       "                                        Review_clear  \n",
       "0        absolutely wonderful silky sexy comfortable  \n",
       "1  love sooo pretty happened find store glad bc n...  \n",
       "3  love love love jumpsuit fun flirty fabulous ev...  \n",
       "4  flattering due adjustable front tie perfect le...  \n",
       "6  aded basket hte last mintue see would look lik...  "
      ]
     },
     "execution_count": 226,
     "metadata": {},
     "output_type": "execute_result"
    }
   ],
   "source": [
    "positive = ProductReview_df[ProductReview_df.Recommended== 1]\n",
    "negative = ProductReview_df[ProductReview_df.Recommended== 0]\n",
    "positive.head()"
   ]
  },
  {
   "cell_type": "code",
   "execution_count": 227,
   "id": "patent-ideal",
   "metadata": {},
   "outputs": [
    {
     "data": {
      "text/html": [
       "<div>\n",
       "<style scoped>\n",
       "    .dataframe tbody tr th:only-of-type {\n",
       "        vertical-align: middle;\n",
       "    }\n",
       "\n",
       "    .dataframe tbody tr th {\n",
       "        vertical-align: top;\n",
       "    }\n",
       "\n",
       "    .dataframe thead th {\n",
       "        text-align: right;\n",
       "    }\n",
       "</style>\n",
       "<table border=\"1\" class=\"dataframe\">\n",
       "  <thead>\n",
       "    <tr style=\"text-align: right;\">\n",
       "      <th></th>\n",
       "      <th>Clothing ID</th>\n",
       "      <th>Age</th>\n",
       "      <th>Title</th>\n",
       "      <th>Review</th>\n",
       "      <th>Rating</th>\n",
       "      <th>Recommended</th>\n",
       "      <th>Positive Feedback Count</th>\n",
       "      <th>Division Name</th>\n",
       "      <th>Department Name</th>\n",
       "      <th>Class Name</th>\n",
       "      <th>Review_clear</th>\n",
       "    </tr>\n",
       "  </thead>\n",
       "  <tbody>\n",
       "    <tr>\n",
       "      <th>2</th>\n",
       "      <td>1077</td>\n",
       "      <td>60</td>\n",
       "      <td>Some major design flaws</td>\n",
       "      <td>I had such high hopes for this dress and reall...</td>\n",
       "      <td>3</td>\n",
       "      <td>0</td>\n",
       "      <td>0</td>\n",
       "      <td>General</td>\n",
       "      <td>Dresses</td>\n",
       "      <td>Dresses</td>\n",
       "      <td>high hope really wanted work initially ordered...</td>\n",
       "    </tr>\n",
       "    <tr>\n",
       "      <th>5</th>\n",
       "      <td>1080</td>\n",
       "      <td>49</td>\n",
       "      <td>Not for the very petite</td>\n",
       "      <td>I love tracy reese dresses, but this one is no...</td>\n",
       "      <td>2</td>\n",
       "      <td>0</td>\n",
       "      <td>4</td>\n",
       "      <td>General</td>\n",
       "      <td>Dresses</td>\n",
       "      <td>Dresses</td>\n",
       "      <td>love tracy reese one petite foot tall usually ...</td>\n",
       "    </tr>\n",
       "    <tr>\n",
       "      <th>10</th>\n",
       "      <td>1077</td>\n",
       "      <td>53</td>\n",
       "      <td>Dress looks like it's made of cheap material</td>\n",
       "      <td>Dress runs small esp where the zipper area run...</td>\n",
       "      <td>3</td>\n",
       "      <td>0</td>\n",
       "      <td>14</td>\n",
       "      <td>General</td>\n",
       "      <td>Dresses</td>\n",
       "      <td>Dresses</td>\n",
       "      <td>run small esp zipper area run ordered sp typic...</td>\n",
       "    </tr>\n",
       "    <tr>\n",
       "      <th>22</th>\n",
       "      <td>1077</td>\n",
       "      <td>31</td>\n",
       "      <td>Not what it looks like</td>\n",
       "      <td>First of all, this is not pullover styling. th...</td>\n",
       "      <td>2</td>\n",
       "      <td>0</td>\n",
       "      <td>7</td>\n",
       "      <td>General</td>\n",
       "      <td>Dresses</td>\n",
       "      <td>Dresses</td>\n",
       "      <td>first pullover styling side zipper purchased k...</td>\n",
       "    </tr>\n",
       "    <tr>\n",
       "      <th>25</th>\n",
       "      <td>697</td>\n",
       "      <td>31</td>\n",
       "      <td>Falls flat</td>\n",
       "      <td>Loved the material, but i didnt really look at...</td>\n",
       "      <td>3</td>\n",
       "      <td>0</td>\n",
       "      <td>0</td>\n",
       "      <td>Initmates</td>\n",
       "      <td>Intimate</td>\n",
       "      <td>Lounge</td>\n",
       "      <td>loved didnt really look long purchased large m...</td>\n",
       "    </tr>\n",
       "  </tbody>\n",
       "</table>\n",
       "</div>"
      ],
      "text/plain": [
       "    Clothing ID  Age                                         Title  \\\n",
       "2          1077   60                       Some major design flaws   \n",
       "5          1080   49                       Not for the very petite   \n",
       "10         1077   53  Dress looks like it's made of cheap material   \n",
       "22         1077   31                        Not what it looks like   \n",
       "25          697   31                                    Falls flat   \n",
       "\n",
       "                                               Review  Rating  Recommended  \\\n",
       "2   I had such high hopes for this dress and reall...       3            0   \n",
       "5   I love tracy reese dresses, but this one is no...       2            0   \n",
       "10  Dress runs small esp where the zipper area run...       3            0   \n",
       "22  First of all, this is not pullover styling. th...       2            0   \n",
       "25  Loved the material, but i didnt really look at...       3            0   \n",
       "\n",
       "    Positive Feedback Count Division Name Department Name Class Name  \\\n",
       "2                         0       General         Dresses    Dresses   \n",
       "5                         4       General         Dresses    Dresses   \n",
       "10                       14       General         Dresses    Dresses   \n",
       "22                        7       General         Dresses    Dresses   \n",
       "25                        0     Initmates        Intimate     Lounge   \n",
       "\n",
       "                                         Review_clear  \n",
       "2   high hope really wanted work initially ordered...  \n",
       "5   love tracy reese one petite foot tall usually ...  \n",
       "10  run small esp zipper area run ordered sp typic...  \n",
       "22  first pullover styling side zipper purchased k...  \n",
       "25  loved didnt really look long purchased large m...  "
      ]
     },
     "execution_count": 227,
     "metadata": {},
     "output_type": "execute_result"
    }
   ],
   "source": [
    "negative.head()"
   ]
  },
  {
   "cell_type": "markdown",
   "id": "advised-affect",
   "metadata": {},
   "source": [
    "#### Getting Positive and Negative Words"
   ]
  },
  {
   "cell_type": "code",
   "execution_count": 228,
   "id": "seasonal-indication",
   "metadata": {},
   "outputs": [
    {
     "data": {
      "text/plain": [
       "'absolutely wonderful silky sexy comfortable love sooo pretty happened find store glad bc never would'"
      ]
     },
     "execution_count": 228,
     "metadata": {},
     "output_type": "execute_result"
    }
   ],
   "source": [
    "positive_words =[]\n",
    "\n",
    "for review in positive.Review_clear:\n",
    "    positive_words.append(review) \n",
    "positive_words = ' '.join(positive_words)\n",
    "positive_words[:100]"
   ]
  },
  {
   "cell_type": "code",
   "execution_count": 220,
   "id": "incorporate-runner",
   "metadata": {},
   "outputs": [
    {
     "data": {
      "text/plain": [
       "'high hope really wanted work initially ordered petite small usual size found out'"
      ]
     },
     "execution_count": 220,
     "metadata": {},
     "output_type": "execute_result"
    }
   ],
   "source": [
    "negative_words = []\n",
    "\n",
    "for review in negative.Review_clear:\n",
    "    negative_words.append(review)\n",
    "negative_words = ' '.join(negative_words)\n",
    "negative_words[:80]"
   ]
  },
  {
   "cell_type": "markdown",
   "id": "adjacent-coating",
   "metadata": {},
   "source": [
    "##  Models"
   ]
  },
  {
   "cell_type": "code",
   "execution_count": 210,
   "id": "failing-france",
   "metadata": {},
   "outputs": [
    {
     "name": "stdout",
     "output_type": "stream",
     "text": [
      "No. of samples in Training set:  17614\n",
      "No. of samples in Testing set: 5872\n"
     ]
    }
   ],
   "source": [
    "X = ProductReview_df['Review_clear']\n",
    "y = ProductReview_df['Recommended']\n",
    "\n",
    "X_train, X_val, y_train, y_val = train_test_split(X, y, test_size=0.25, random_state = 0)\n",
    "\n",
    "# number of samples in each set\n",
    "print(\"No. of samples in Training set: \", X_train.shape[0])\n",
    "print(\"No. of samples in Testing set:\", X_val.shape[0])"
   ]
  },
  {
   "cell_type": "code",
   "execution_count": 211,
   "id": "ordinary-click",
   "metadata": {},
   "outputs": [
    {
     "data": {
      "text/plain": [
       "16110"
      ]
     },
     "execution_count": 211,
     "metadata": {},
     "output_type": "execute_result"
    }
   ],
   "source": [
    "vect = CountVectorizer(min_df=5, ngram_range=(1,2)).fit(X_train)\n",
    "\n",
    "X_train_vectorized = vect.transform(X_train)\n",
    "\n",
    "len(vect.get_feature_names())"
   ]
  },
  {
   "cell_type": "code",
   "execution_count": 83,
   "id": "fifth-peter",
   "metadata": {},
   "outputs": [
    {
     "name": "stdout",
     "output_type": "stream",
     "text": [
      "1    14468\n",
      "0     3146\n",
      "Name: Recommended, dtype: int64\n",
      "1    4846\n",
      "0    1026\n",
      "Name: Recommended, dtype: int64\n"
     ]
    }
   ],
   "source": [
    "print(y_train.value_counts())\n",
    "print(y_val.value_counts())"
   ]
  },
  {
   "cell_type": "code",
   "execution_count": 240,
   "id": "congressional-campus",
   "metadata": {},
   "outputs": [
    {
     "data": {
      "text/plain": [
       "LinearRegression()"
      ]
     },
     "execution_count": 240,
     "metadata": {},
     "output_type": "execute_result"
    }
   ],
   "source": [
    "regr = LinearRegression()\n",
    "regr.fit(X_train_vectorized, y_train)"
   ]
  },
  {
   "cell_type": "markdown",
   "id": "sunset-camcorder",
   "metadata": {},
   "source": [
    "###  Logistic Regression"
   ]
  },
  {
   "cell_type": "code",
   "execution_count": 84,
   "id": "referenced-makeup",
   "metadata": {},
   "outputs": [],
   "source": [
    "model = LogisticRegression(penalty='l1', solver='liblinear')\n",
    "model.fit(X_train_vectorized, y_train)\n",
    "ytest = np.array(y_test)\n",
    "predictions = model.predict(vect.transform(X_test))"
   ]
  },
  {
   "cell_type": "code",
   "execution_count": 89,
   "id": "greek-elite",
   "metadata": {},
   "outputs": [
    {
     "name": "stdout",
     "output_type": "stream",
     "text": [
      "accuracy 0.8888888888888888\n",
      "              precision    recall  f1-score   support\n",
      "\n",
      "           0       0.72      0.61      0.66       828\n",
      "           1       0.92      0.95      0.93      3870\n",
      "\n",
      "    accuracy                           0.89      4698\n",
      "   macro avg       0.82      0.78      0.80      4698\n",
      "weighted avg       0.88      0.89      0.89      4698\n",
      "\n"
     ]
    }
   ],
   "source": [
    "print('accuracy %s' % accuracy_score(predictions, y_test))\n",
    "\n",
    "print(classification_report(ytest, predictions))"
   ]
  },
  {
   "cell_type": "markdown",
   "id": "ignored-zimbabwe",
   "metadata": {},
   "source": [
    "###  Random Forest"
   ]
  },
  {
   "cell_type": "code",
   "execution_count": 212,
   "id": "crucial-characterization",
   "metadata": {},
   "outputs": [],
   "source": [
    "model_randomforest = Pipeline([('vect', CountVectorizer(min_df=5, ngram_range=(1,2))),\n",
    "                    ('tfidf', TfidfTransformer()),\n",
    "                    ('clf-rf', RandomForestClassifier(n_estimators=50)),\n",
    "                    ])\n",
    "\n",
    "model_randomforest.fit(X_train, y_train)\n",
    "\n",
    "ytest = np.array(y_test)\n",
    "pred = model_randomforest.predict(X_test)"
   ]
  },
  {
   "cell_type": "code",
   "execution_count": 213,
   "id": "entertaining-essence",
   "metadata": {},
   "outputs": [
    {
     "name": "stdout",
     "output_type": "stream",
     "text": [
      "accuracy 0.8697318007662835\n",
      "              precision    recall  f1-score   support\n",
      "\n",
      "           0       0.83      0.33      0.47       828\n",
      "           1       0.87      0.99      0.93      3870\n",
      "\n",
      "    accuracy                           0.87      4698\n",
      "   macro avg       0.85      0.66      0.70      4698\n",
      "weighted avg       0.86      0.87      0.85      4698\n",
      "\n"
     ]
    }
   ],
   "source": [
    "print('accuracy %s' % accuracy_score(pred, y_test))\n",
    "print(classification_report(ytest, pred))"
   ]
  },
  {
   "cell_type": "markdown",
   "id": "private-bottom",
   "metadata": {},
   "source": [
    "## Milestone 3 - Conclusion\n",
    "\n",
    "1. The product received more recommendation from Customers\n",
    "2. Most of the Customer provided Rating 5 for Products\n",
    "3. In the Dress Class Name received more Recommentation and Reviews\n",
    "4. Customers from Age 30 to 40 are participated much in Reviews\n",
    "5. Tops from Depart Name received more Reviews\n",
    "6. Removed the unwanted Columns\n",
    "7. Handled the NA values and NULL Values\n",
    "8. Preprocessed the Text data and Identified the Postive and Negative comments\n",
    "9. Applied PreText Processing through NLTP\n",
    "10. Ran Logistic and Random Forest Regression and identified the Accuracy\n",
    "          Logistic - 88.88%          Random Forest - 86.97"
   ]
  },
  {
   "cell_type": "markdown",
   "id": "retained-romania",
   "metadata": {},
   "source": [
    "##  Next Steps\n",
    "\n",
    "1. Models\n",
    "\n",
    "I am going to use the following classification models and perform the accuracy\n",
    "\n",
    "Naive Bayes\n",
    "Support Vector Machine\n",
    "\n",
    "\n",
    "3.Performace Evaluation Metrics\n",
    "\n",
    "Accuracy: test’s ability to correctly predict both classes\n",
    "Precision: test’s ability to correctly detect positive classes from all predicted positive classes\n",
    "Recall (Sensitivity): test’s ability to correctly detect positive classes from all actual positive classes\n",
    "F1 Score: harmonic mean of precision and recall\n",
    "\n",
    "\n",
    "4. Deployment\n",
    "\n",
    "\n",
    "5. Conculsion and Summary of the Project\n",
    "    "
   ]
  },
  {
   "cell_type": "markdown",
   "id": "requested-manor",
   "metadata": {},
   "source": [
    "## References\n",
    "\n",
    "1.  Sentiment analysis using product review data, Journel of Big Data\n",
    "        https://journalofbigdata.springeropen.com/articles/10.1186/s40537-015-0015-2\n",
    "        \n",
    "2.  Sentiment Analysis, Wikipedia\n",
    "        https://en.wikipedia.org/wiki/Sentiment_analysis.\n",
    "\n",
    "3.  Sentiment Analysis: A Definitive Guide, MonkeyLearn\n",
    "\n",
    "        https://monkeylearn.com/sentiment-analysis/\n",
    "        \n",
    "4.  https://pandas.pydata.org/pandas-docs/version/0.23/generated/pandas.DataFrame.plot.html\n",
    "\n",
    "5. https://www.zentut.com/data-mining/data-mining-processes/\n"
   ]
  },
  {
   "cell_type": "code",
   "execution_count": null,
   "id": "three-frontier",
   "metadata": {},
   "outputs": [],
   "source": []
  }
 ],
 "metadata": {
  "kernelspec": {
   "display_name": "Python 3",
   "language": "python",
   "name": "python3"
  },
  "language_info": {
   "codemirror_mode": {
    "name": "ipython",
    "version": 3
   },
   "file_extension": ".py",
   "mimetype": "text/x-python",
   "name": "python",
   "nbconvert_exporter": "python",
   "pygments_lexer": "ipython3",
   "version": "3.8.3"
  }
 },
 "nbformat": 4,
 "nbformat_minor": 5
}
