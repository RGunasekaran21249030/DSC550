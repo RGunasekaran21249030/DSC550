{
 "cells": [
  {
   "cell_type": "markdown",
   "id": "magnetic-tobacco",
   "metadata": {},
   "source": [
    "# Sentiment Analysis of Product reviews\n",
    "\n",
    "Name : Raguath Gunasekaran"
   ]
  },
  {
   "cell_type": "markdown",
   "id": "stable-dynamics",
   "metadata": {},
   "source": [
    "## Introduction\n",
    "\n",
    "Sentiment analysis, which is also known as opinion mining, studies people’s sentiments towards certain entities. [Ref 1]\n",
    "\n",
    "In recent days, Sentiment analysis has gain much attention  Sentiment analysis or opinion mining is one of the major tasks of NLP (Natural Language Processing) and Machine Learning. \n",
    "It's used to determine whether the given product review is positive, negative or neutral. Sentiment analysis is often performed on textual data to help businesses monitor brand and product sentiment in customer feedback, and understand customer need [ Ref 3 ]\n",
    "\n",
    "Business Sucess, The Product Owner should understand the customers mindset and their opinion. Sentiment analysis is extremely important to understand the customer mindset because it helps businesses quickly understand the overall opinions of their customers. \n",
    "By automatically sorting the sentiment behind reviews, social media conversations. once we understand the sentiment, Product owner can react to solve the issue or enhance the features of the product to attract the customer. [ Ref 3 ]\n",
    "\n",
    "Python as a programming language has numerous uses such as Machine Learning, AI, mobile applications, statistical , etc. As we know, AI, machine learning, and data analysis/analytics is where it has amassed most of its popularity. \n",
    "Python contains more libraries and packages is continually being employed which helped to solve complex industry issues, data-driven strategies, risk analysis etc."
   ]
  },
  {
   "cell_type": "markdown",
   "id": "rolled-prior",
   "metadata": {},
   "source": [
    "## Business Understanding: Defining the Problem\n",
    "\n",
    "The business objective remained the same: The main goal of the project is to build a sentiment analysis predictive model to predict or determine to determined whether the product is satisying the customer or not. \n",
    "I am going to use different classification machine learning algorithms to get more accurate predictions through NLP.\n",
    "\n",
    "Defining the Target Variable : The Target variable is going to be target class. The Review prediction is going to be Positive, Negative or Netural and Review Text and Recommended IND  variable as a predictor"
   ]
  },
  {
   "cell_type": "markdown",
   "id": "voluntary-protocol",
   "metadata": {},
   "source": [
    "## Data Understanding\n",
    "\n",
    "Data used in this project are online product reviews collected from Kaggle.com ( Women’s Clothing E-Commerce dataset )\n",
    "https://www.kaggle.com/nicapotato/womens-ecommerce-clothing-reviews\n",
    "\n",
    "The format of the dataset for this case study is CSV. The data contains below variables.\n",
    "Pandas library used to load the data from csv to Dataframe.\n",
    "\n",
    "Clothing ID: The specific Clothing being reviewed.\n",
    "\n",
    "Age: Age of the Reviewer.\n",
    "\n",
    "Title: Review Titla.\n",
    "\n",
    "Review Text: detail content of the Product Review.\n",
    "\n",
    "Rating: Score from 1 Worst, to 5 Best.\n",
    "\n",
    "Recommended IND: Customer recommends the product or not\n",
    "\n",
    "Positive Feedback Count: Number of other customers who found this review positive.\n",
    "\n",
    "Division Name: Product high level division.\n",
    "\n",
    "Department Name: Product department name.\n",
    "\n",
    "Class Name: Product class name.\n"
   ]
  },
  {
   "cell_type": "markdown",
   "id": "plastic-witness",
   "metadata": {},
   "source": [
    "## Data Preparation\n",
    "Based on the reading, “data scientists usually spend 70% of the project time here, preprocessing and exploring the data”. So, the Data Preparation is important for predictive analytics project. In this project, we need to make sure the data is suitable and well prepared for model. While preparing the Data, we need to verify the metadata of the given dataset and need to understand very clearly about data patterns, relationships etc\n"
   ]
  },
  {
   "cell_type": "markdown",
   "id": "assisted-seeking",
   "metadata": {},
   "source": [
    "### Importing packages and loading data"
   ]
  },
  {
   "cell_type": "code",
   "execution_count": 3,
   "id": "bearing-familiar",
   "metadata": {},
   "outputs": [],
   "source": [
    "# data processing\n",
    "import pandas as pd\n",
    "\n",
    "# linear algebra\n",
    "import numpy as np\n",
    "\n",
    "# data visualization\n",
    "import matplotlib.pyplot as plt\n",
    "%matplotlib inline\n",
    "import seaborn as sns\n",
    "\n",
    "# Word Processing\n",
    "import re\n",
    "import string\n",
    "\n",
    "#nltk for Text preprocessing \n",
    "import nltk\n",
    "from nltk.corpus import stopwords\n",
    "from nltk.stem import PorterStemmer\n",
    "from nltk.tokenize import sent_tokenize, word_tokenize\n",
    "from nltk.stem.wordnet import WordNetLemmatizer\n",
    "\n",
    "# Machine Learning Models\n",
    "from sklearn.model_selection import train_test_split\n",
    "from sklearn.pipeline import Pipeline\n",
    "from sklearn.feature_extraction.text import CountVectorizer, TfidfTransformer\n",
    "\n",
    "from sklearn.linear_model import LogisticRegression\n",
    "from sklearn.naive_bayes import MultinomialNB\n",
    "from sklearn.linear_model import SGDClassifier\n",
    "from sklearn.ensemble import RandomForestClassifier\n",
    "from sklearn.metrics import confusion_matrix, accuracy_score, classification_report"
   ]
  },
  {
   "cell_type": "code",
   "execution_count": 6,
   "id": "commercial-washer",
   "metadata": {},
   "outputs": [
    {
     "data": {
      "text/html": [
       "<div>\n",
       "<style scoped>\n",
       "    .dataframe tbody tr th:only-of-type {\n",
       "        vertical-align: middle;\n",
       "    }\n",
       "\n",
       "    .dataframe tbody tr th {\n",
       "        vertical-align: top;\n",
       "    }\n",
       "\n",
       "    .dataframe thead th {\n",
       "        text-align: right;\n",
       "    }\n",
       "</style>\n",
       "<table border=\"1\" class=\"dataframe\">\n",
       "  <thead>\n",
       "    <tr style=\"text-align: right;\">\n",
       "      <th></th>\n",
       "      <th>Clothing ID</th>\n",
       "      <th>Age</th>\n",
       "      <th>Title</th>\n",
       "      <th>Review Text</th>\n",
       "      <th>Rating</th>\n",
       "      <th>Recommended IND</th>\n",
       "      <th>Positive Feedback Count</th>\n",
       "      <th>Division Name</th>\n",
       "      <th>Department Name</th>\n",
       "      <th>Class Name</th>\n",
       "    </tr>\n",
       "  </thead>\n",
       "  <tbody>\n",
       "    <tr>\n",
       "      <th>0</th>\n",
       "      <td>767</td>\n",
       "      <td>33</td>\n",
       "      <td>NaN</td>\n",
       "      <td>Absolutely wonderful - silky and sexy and comf...</td>\n",
       "      <td>4</td>\n",
       "      <td>1</td>\n",
       "      <td>0</td>\n",
       "      <td>Initmates</td>\n",
       "      <td>Intimate</td>\n",
       "      <td>Intimates</td>\n",
       "    </tr>\n",
       "    <tr>\n",
       "      <th>1</th>\n",
       "      <td>1080</td>\n",
       "      <td>34</td>\n",
       "      <td>NaN</td>\n",
       "      <td>Love this dress!  it's sooo pretty.  i happene...</td>\n",
       "      <td>5</td>\n",
       "      <td>1</td>\n",
       "      <td>4</td>\n",
       "      <td>General</td>\n",
       "      <td>Dresses</td>\n",
       "      <td>Dresses</td>\n",
       "    </tr>\n",
       "    <tr>\n",
       "      <th>2</th>\n",
       "      <td>1077</td>\n",
       "      <td>60</td>\n",
       "      <td>Some major design flaws</td>\n",
       "      <td>I had such high hopes for this dress and reall...</td>\n",
       "      <td>3</td>\n",
       "      <td>0</td>\n",
       "      <td>0</td>\n",
       "      <td>General</td>\n",
       "      <td>Dresses</td>\n",
       "      <td>Dresses</td>\n",
       "    </tr>\n",
       "    <tr>\n",
       "      <th>3</th>\n",
       "      <td>1049</td>\n",
       "      <td>50</td>\n",
       "      <td>My favorite buy!</td>\n",
       "      <td>I love, love, love this jumpsuit. it's fun, fl...</td>\n",
       "      <td>5</td>\n",
       "      <td>1</td>\n",
       "      <td>0</td>\n",
       "      <td>General Petite</td>\n",
       "      <td>Bottoms</td>\n",
       "      <td>Pants</td>\n",
       "    </tr>\n",
       "    <tr>\n",
       "      <th>4</th>\n",
       "      <td>847</td>\n",
       "      <td>47</td>\n",
       "      <td>Flattering shirt</td>\n",
       "      <td>This shirt is very flattering to all due to th...</td>\n",
       "      <td>5</td>\n",
       "      <td>1</td>\n",
       "      <td>6</td>\n",
       "      <td>General</td>\n",
       "      <td>Tops</td>\n",
       "      <td>Blouses</td>\n",
       "    </tr>\n",
       "  </tbody>\n",
       "</table>\n",
       "</div>"
      ],
      "text/plain": [
       "   Clothing ID  Age                    Title  \\\n",
       "0          767   33                      NaN   \n",
       "1         1080   34                      NaN   \n",
       "2         1077   60  Some major design flaws   \n",
       "3         1049   50         My favorite buy!   \n",
       "4          847   47         Flattering shirt   \n",
       "\n",
       "                                         Review Text  Rating  Recommended IND  \\\n",
       "0  Absolutely wonderful - silky and sexy and comf...       4                1   \n",
       "1  Love this dress!  it's sooo pretty.  i happene...       5                1   \n",
       "2  I had such high hopes for this dress and reall...       3                0   \n",
       "3  I love, love, love this jumpsuit. it's fun, fl...       5                1   \n",
       "4  This shirt is very flattering to all due to th...       5                1   \n",
       "\n",
       "   Positive Feedback Count   Division Name Department Name Class Name  \n",
       "0                        0       Initmates        Intimate  Intimates  \n",
       "1                        4         General         Dresses    Dresses  \n",
       "2                        0         General         Dresses    Dresses  \n",
       "3                        0  General Petite         Bottoms      Pants  \n",
       "4                        6         General            Tops    Blouses  "
      ]
     },
     "execution_count": 6,
     "metadata": {},
     "output_type": "execute_result"
    }
   ],
   "source": [
    "ProductReview_df = pd.read_csv('Womens Clothing E-Commerce Reviews.csv', header=0,index_col=0)\n",
    "ProductReview_df.head()"
   ]
  },
  {
   "cell_type": "markdown",
   "id": "another-denver",
   "metadata": {},
   "source": [
    "####  Metadata of the Dataframe"
   ]
  },
  {
   "cell_type": "code",
   "execution_count": 7,
   "id": "knowing-deviation",
   "metadata": {},
   "outputs": [
    {
     "name": "stdout",
     "output_type": "stream",
     "text": [
      "<class 'pandas.core.frame.DataFrame'>\n",
      "Int64Index: 23486 entries, 0 to 23485\n",
      "Data columns (total 10 columns):\n",
      " #   Column                   Non-Null Count  Dtype \n",
      "---  ------                   --------------  ----- \n",
      " 0   Clothing ID              23486 non-null  int64 \n",
      " 1   Age                      23486 non-null  int64 \n",
      " 2   Title                    19676 non-null  object\n",
      " 3   Review Text              22641 non-null  object\n",
      " 4   Rating                   23486 non-null  int64 \n",
      " 5   Recommended IND          23486 non-null  int64 \n",
      " 6   Positive Feedback Count  23486 non-null  int64 \n",
      " 7   Division Name            23472 non-null  object\n",
      " 8   Department Name          23472 non-null  object\n",
      " 9   Class Name               23472 non-null  object\n",
      "dtypes: int64(5), object(5)\n",
      "memory usage: 2.0+ MB\n"
     ]
    }
   ],
   "source": [
    "ProductReview_df.info()"
   ]
  },
  {
   "cell_type": "code",
   "execution_count": 8,
   "id": "universal-drinking",
   "metadata": {},
   "outputs": [
    {
     "name": "stdout",
     "output_type": "stream",
     "text": [
      "The dimension of the table is: \n"
     ]
    },
    {
     "data": {
      "text/plain": [
       "(23486, 10)"
      ]
     },
     "execution_count": 8,
     "metadata": {},
     "output_type": "execute_result"
    }
   ],
   "source": [
    "# Step 2:  check the dimension of the table\n",
    "print(\"The dimension of the table is: \")\n",
    "ProductReview_df.shape"
   ]
  },
  {
   "cell_type": "markdown",
   "id": "interracial-shower",
   "metadata": {},
   "source": [
    "#### Summarized Data"
   ]
  },
  {
   "cell_type": "code",
   "execution_count": 10,
   "id": "angry-penguin",
   "metadata": {},
   "outputs": [
    {
     "name": "stdout",
     "output_type": "stream",
     "text": [
      "Describe Data\n",
      "        Clothing ID           Age        Rating  Recommended IND  \\\n",
      "count  23486.000000  23486.000000  23486.000000     23486.000000   \n",
      "mean     918.118709     43.198544      4.196032         0.822362   \n",
      "std      203.298980     12.279544      1.110031         0.382216   \n",
      "min        0.000000     18.000000      1.000000         0.000000   \n",
      "25%      861.000000     34.000000      4.000000         1.000000   \n",
      "50%      936.000000     41.000000      5.000000         1.000000   \n",
      "75%     1078.000000     52.000000      5.000000         1.000000   \n",
      "max     1205.000000     99.000000      5.000000         1.000000   \n",
      "\n",
      "       Positive Feedback Count  \n",
      "count             23486.000000  \n",
      "mean                  2.535936  \n",
      "std                   5.702202  \n",
      "min                   0.000000  \n",
      "25%                   0.000000  \n",
      "50%                   1.000000  \n",
      "75%                   3.000000  \n",
      "max                 122.000000  \n",
      "Summarized Data\n",
      "           Title                                        Review Text  \\\n",
      "count      19676                                              22641   \n",
      "unique     13993                                              22634   \n",
      "top     Love it!  Perfect fit and i've gotten so many compliment...   \n",
      "freq         136                                                  3   \n",
      "\n",
      "       Division Name Department Name Class Name  \n",
      "count          23472           23472      23472  \n",
      "unique             3               6         20  \n",
      "top          General            Tops    Dresses  \n",
      "freq           13850           10468       6319  \n"
     ]
    }
   ],
   "source": [
    "print(\"Describe Data\")\n",
    "print(ProductReview_df.describe())\n",
    "print(\"Summarized Data\")\n",
    "print(ProductReview_df.describe(include=['O']))"
   ]
  },
  {
   "cell_type": "markdown",
   "id": "posted-lucas",
   "metadata": {},
   "source": [
    "####  Checking Nulls and Renaming the column names"
   ]
  },
  {
   "cell_type": "code",
   "execution_count": 11,
   "id": "collectible-volleyball",
   "metadata": {},
   "outputs": [
    {
     "data": {
      "text/plain": [
       "Clothing ID                   0\n",
       "Age                           0\n",
       "Title                      3810\n",
       "Review Text                 845\n",
       "Rating                        0\n",
       "Recommended IND               0\n",
       "Positive Feedback Count       0\n",
       "Division Name                14\n",
       "Department Name              14\n",
       "Class Name                   14\n",
       "dtype: int64"
      ]
     },
     "execution_count": 11,
     "metadata": {},
     "output_type": "execute_result"
    }
   ],
   "source": [
    "ProductReview_df.isnull().sum()"
   ]
  },
  {
   "cell_type": "code",
   "execution_count": 15,
   "id": "fatal-dover",
   "metadata": {},
   "outputs": [
    {
     "data": {
      "text/html": [
       "<div>\n",
       "<style scoped>\n",
       "    .dataframe tbody tr th:only-of-type {\n",
       "        vertical-align: middle;\n",
       "    }\n",
       "\n",
       "    .dataframe tbody tr th {\n",
       "        vertical-align: top;\n",
       "    }\n",
       "\n",
       "    .dataframe thead th {\n",
       "        text-align: right;\n",
       "    }\n",
       "</style>\n",
       "<table border=\"1\" class=\"dataframe\">\n",
       "  <thead>\n",
       "    <tr style=\"text-align: right;\">\n",
       "      <th></th>\n",
       "      <th>Clothing ID</th>\n",
       "      <th>Age</th>\n",
       "      <th>Title</th>\n",
       "      <th>Review</th>\n",
       "      <th>Rating</th>\n",
       "      <th>Recommended</th>\n",
       "      <th>Positive Feedback Count</th>\n",
       "      <th>Division Name</th>\n",
       "      <th>Department Name</th>\n",
       "      <th>Class Name</th>\n",
       "    </tr>\n",
       "  </thead>\n",
       "  <tbody>\n",
       "    <tr>\n",
       "      <th>0</th>\n",
       "      <td>767</td>\n",
       "      <td>33</td>\n",
       "      <td>NaN</td>\n",
       "      <td>Absolutely wonderful - silky and sexy and comf...</td>\n",
       "      <td>4</td>\n",
       "      <td>1</td>\n",
       "      <td>0</td>\n",
       "      <td>Initmates</td>\n",
       "      <td>Intimate</td>\n",
       "      <td>Intimates</td>\n",
       "    </tr>\n",
       "    <tr>\n",
       "      <th>1</th>\n",
       "      <td>1080</td>\n",
       "      <td>34</td>\n",
       "      <td>NaN</td>\n",
       "      <td>Love this dress!  it's sooo pretty.  i happene...</td>\n",
       "      <td>5</td>\n",
       "      <td>1</td>\n",
       "      <td>4</td>\n",
       "      <td>General</td>\n",
       "      <td>Dresses</td>\n",
       "      <td>Dresses</td>\n",
       "    </tr>\n",
       "    <tr>\n",
       "      <th>2</th>\n",
       "      <td>1077</td>\n",
       "      <td>60</td>\n",
       "      <td>Some major design flaws</td>\n",
       "      <td>I had such high hopes for this dress and reall...</td>\n",
       "      <td>3</td>\n",
       "      <td>0</td>\n",
       "      <td>0</td>\n",
       "      <td>General</td>\n",
       "      <td>Dresses</td>\n",
       "      <td>Dresses</td>\n",
       "    </tr>\n",
       "    <tr>\n",
       "      <th>3</th>\n",
       "      <td>1049</td>\n",
       "      <td>50</td>\n",
       "      <td>My favorite buy!</td>\n",
       "      <td>I love, love, love this jumpsuit. it's fun, fl...</td>\n",
       "      <td>5</td>\n",
       "      <td>1</td>\n",
       "      <td>0</td>\n",
       "      <td>General Petite</td>\n",
       "      <td>Bottoms</td>\n",
       "      <td>Pants</td>\n",
       "    </tr>\n",
       "    <tr>\n",
       "      <th>4</th>\n",
       "      <td>847</td>\n",
       "      <td>47</td>\n",
       "      <td>Flattering shirt</td>\n",
       "      <td>This shirt is very flattering to all due to th...</td>\n",
       "      <td>5</td>\n",
       "      <td>1</td>\n",
       "      <td>6</td>\n",
       "      <td>General</td>\n",
       "      <td>Tops</td>\n",
       "      <td>Blouses</td>\n",
       "    </tr>\n",
       "  </tbody>\n",
       "</table>\n",
       "</div>"
      ],
      "text/plain": [
       "   Clothing ID  Age                    Title  \\\n",
       "0          767   33                      NaN   \n",
       "1         1080   34                      NaN   \n",
       "2         1077   60  Some major design flaws   \n",
       "3         1049   50         My favorite buy!   \n",
       "4          847   47         Flattering shirt   \n",
       "\n",
       "                                              Review  Rating  Recommended  \\\n",
       "0  Absolutely wonderful - silky and sexy and comf...       4            1   \n",
       "1  Love this dress!  it's sooo pretty.  i happene...       5            1   \n",
       "2  I had such high hopes for this dress and reall...       3            0   \n",
       "3  I love, love, love this jumpsuit. it's fun, fl...       5            1   \n",
       "4  This shirt is very flattering to all due to th...       5            1   \n",
       "\n",
       "   Positive Feedback Count   Division Name Department Name Class Name  \n",
       "0                        0       Initmates        Intimate  Intimates  \n",
       "1                        4         General         Dresses    Dresses  \n",
       "2                        0         General         Dresses    Dresses  \n",
       "3                        0  General Petite         Bottoms      Pants  \n",
       "4                        6         General            Tops    Blouses  "
      ]
     },
     "execution_count": 15,
     "metadata": {},
     "output_type": "execute_result"
    }
   ],
   "source": [
    "ProductReview_df = ProductReview_df.rename(columns={\"Recommended IND\": \"Recommended\", \"Review Text\": \"Review\"})\n",
    "ProductReview_df.head()"
   ]
  },
  {
   "cell_type": "markdown",
   "id": "radio-mailman",
   "metadata": {},
   "source": [
    "####  identify the Correlation between Variables"
   ]
  },
  {
   "cell_type": "code",
   "execution_count": 18,
   "id": "standing-grill",
   "metadata": {},
   "outputs": [
    {
     "data": {
      "text/html": [
       "<div>\n",
       "<style scoped>\n",
       "    .dataframe tbody tr th:only-of-type {\n",
       "        vertical-align: middle;\n",
       "    }\n",
       "\n",
       "    .dataframe tbody tr th {\n",
       "        vertical-align: top;\n",
       "    }\n",
       "\n",
       "    .dataframe thead th {\n",
       "        text-align: right;\n",
       "    }\n",
       "</style>\n",
       "<table border=\"1\" class=\"dataframe\">\n",
       "  <thead>\n",
       "    <tr style=\"text-align: right;\">\n",
       "      <th></th>\n",
       "      <th>Clothing ID</th>\n",
       "      <th>Age</th>\n",
       "      <th>Rating</th>\n",
       "      <th>Recommended</th>\n",
       "      <th>Positive Feedback Count</th>\n",
       "    </tr>\n",
       "  </thead>\n",
       "  <tbody>\n",
       "    <tr>\n",
       "      <th>Clothing ID</th>\n",
       "      <td>1.000000</td>\n",
       "      <td>0.017972</td>\n",
       "      <td>-0.018879</td>\n",
       "      <td>-0.016206</td>\n",
       "      <td>0.046356</td>\n",
       "    </tr>\n",
       "    <tr>\n",
       "      <th>Age</th>\n",
       "      <td>0.017972</td>\n",
       "      <td>1.000000</td>\n",
       "      <td>0.026831</td>\n",
       "      <td>0.030622</td>\n",
       "      <td>0.043079</td>\n",
       "    </tr>\n",
       "    <tr>\n",
       "      <th>Rating</th>\n",
       "      <td>-0.018879</td>\n",
       "      <td>0.026831</td>\n",
       "      <td>1.000000</td>\n",
       "      <td>0.792336</td>\n",
       "      <td>-0.064961</td>\n",
       "    </tr>\n",
       "    <tr>\n",
       "      <th>Recommended</th>\n",
       "      <td>-0.016206</td>\n",
       "      <td>0.030622</td>\n",
       "      <td>0.792336</td>\n",
       "      <td>1.000000</td>\n",
       "      <td>-0.069045</td>\n",
       "    </tr>\n",
       "    <tr>\n",
       "      <th>Positive Feedback Count</th>\n",
       "      <td>0.046356</td>\n",
       "      <td>0.043079</td>\n",
       "      <td>-0.064961</td>\n",
       "      <td>-0.069045</td>\n",
       "      <td>1.000000</td>\n",
       "    </tr>\n",
       "  </tbody>\n",
       "</table>\n",
       "</div>"
      ],
      "text/plain": [
       "                         Clothing ID       Age    Rating  Recommended  \\\n",
       "Clothing ID                 1.000000  0.017972 -0.018879    -0.016206   \n",
       "Age                         0.017972  1.000000  0.026831     0.030622   \n",
       "Rating                     -0.018879  0.026831  1.000000     0.792336   \n",
       "Recommended                -0.016206  0.030622  0.792336     1.000000   \n",
       "Positive Feedback Count     0.046356  0.043079 -0.064961    -0.069045   \n",
       "\n",
       "                         Positive Feedback Count  \n",
       "Clothing ID                             0.046356  \n",
       "Age                                     0.043079  \n",
       "Rating                                 -0.064961  \n",
       "Recommended                            -0.069045  \n",
       "Positive Feedback Count                 1.000000  "
      ]
     },
     "execution_count": 18,
     "metadata": {},
     "output_type": "execute_result"
    }
   ],
   "source": [
    "ProductReview_df.corr()"
   ]
  },
  {
   "cell_type": "markdown",
   "id": "sought-agent",
   "metadata": {},
   "source": [
    "#### Recommended Product Review - Analysis"
   ]
  },
  {
   "cell_type": "code",
   "execution_count": 17,
   "id": "changed-carpet",
   "metadata": {},
   "outputs": [
    {
     "data": {
      "text/plain": [
       "Text(0.5, 1.0, 'Recommendation Analysis')"
      ]
     },
     "execution_count": 17,
     "metadata": {},
     "output_type": "execute_result"
    },
    {
     "data": {
      "image/png": "[encoded data removed]",
      "text/plain": [
       "<Figure size 432x288 with 1 Axes>"
      ]
     },
     "metadata": {
      "needs_background": "light"
     },
     "output_type": "display_data"
    }
   ],
   "source": [
    "ProductReview_df[\"Recommended\"].value_counts().plot(kind='bar')\n",
    "plt.xlabel(\"Recommended\")\n",
    "plt.ylabel(\"Counts of Reviews\")\n",
    "plt.title(\"Recommendation Analysis\")"
   ]
  },
  {
   "cell_type": "code",
   "execution_count": 25,
   "id": "competent-graduate",
   "metadata": {},
   "outputs": [
    {
     "data": {
      "text/plain": [
       "Text(0.5, 1.0, 'Rating Analysis')"
      ]
     },
     "execution_count": 25,
     "metadata": {},
     "output_type": "execute_result"
    },
    {
     "data": {
      "image/png": "[encoded data removed]",
      "text/plain": [
       "<Figure size 432x288 with 1 Axes>"
      ]
     },
     "metadata": {},
     "output_type": "display_data"
    }
   ],
   "source": [
    "ProductReview_df[\"Rating\"].value_counts().plot(kind='pie')\n",
    "plt.xlabel(\"Ratings\")\n",
    "plt.ylabel(\"Counts of Reviews\")\n",
    "plt.title(\"Rating Analysis\")"
   ]
  },
  {
   "cell_type": "code",
   "execution_count": 37,
   "id": "processed-sunglasses",
   "metadata": {},
   "outputs": [
    {
     "data": {
      "text/plain": [
       "Text(0.5, 1.0, 'Class Name Analysis')"
      ]
     },
     "execution_count": 37,
     "metadata": {},
     "output_type": "execute_result"
    },
    {
     "data": {
      "image/png": "[encoded data removed]",
      "text/plain": [
       "<Figure size 1080x504 with 1 Axes>"
      ]
     },
     "metadata": {},
     "output_type": "display_data"
    }
   ],
   "source": [
    "ProductReview_df[\"Class Name\"].value_counts().plot(kind='line')\n",
    "plt.xlabel(\"Class Name\")\n",
    "plt.ylabel(\"Counts of Reviews\")\n",
    "plt.title(\"Class Name Analysis\")"
   ]
  },
  {
   "cell_type": "code",
   "execution_count": 38,
   "id": "unlike-dialogue",
   "metadata": {},
   "outputs": [
    {
     "data": {
      "image/png": "[encoded data removed]",
      "text/plain": [
       "<Figure size 1440x720 with 4 Axes>"
      ]
     },
     "metadata": {},
     "output_type": "display_data"
    }
   ],
   "source": [
    "plt.rcParams['figure.figsize'] = (20, 10)\n",
    "\n",
    "# make subplots\n",
    "fig, axes = plt.subplots(nrows = 2, ncols = 2)\n",
    "\n",
    "# Specify the features of interest\n",
    "num_features = ['Age', 'Recommended', 'Division Name', 'Department Name']\n",
    "xaxes = num_features\n",
    "yaxes = ['Counts', 'Counts', 'Counts', 'Counts']\n",
    "\n",
    "# draw histograms\n",
    "axes = axes.ravel()\n",
    "for idx, ax in enumerate(axes):\n",
    "    ax.hist(ProductReview_df[num_features[idx]].dropna(), bins=40)\n",
    "    ax.set_xlabel(xaxes[idx], fontsize=20)\n",
    "    ax.set_ylabel(yaxes[idx], fontsize=20)\n",
    "    ax.tick_params(axis='both', labelsize=15)\n",
    "#plt.show()"
   ]
  },
  {
   "cell_type": "code",
   "execution_count": 29,
   "id": "muslim-brazil",
   "metadata": {},
   "outputs": [
    {
     "data": {
      "text/plain": [
       "<AxesSubplot:xlabel='Department Name', ylabel='Positive Feedback Count'>"
      ]
     },
     "execution_count": 29,
     "metadata": {},
     "output_type": "execute_result"
    },
    {
     "data": {
      "image/png": "[encoded data removed]",
      "text/plain": [
       "<Figure size 1440x720 with 1 Axes>"
      ]
     },
     "metadata": {
      "needs_background": "light"
     },
     "output_type": "display_data"
    }
   ],
   "source": [
    "sns.barplot(x='Department Name', y='Positive Feedback Count', data=ProductReview_df)"
   ]
  },
  {
   "cell_type": "markdown",
   "id": "perfect-tobacco",
   "metadata": {},
   "source": [
    "## Milestone 1 - Conclusion\n",
    "\n",
    "1. The product received more recommendation from Customers\n",
    "2. Most of the Customer provided Rating 5 for Products\n",
    "3. In the Dress Class Name received more Recommentation and Reviews\n",
    "4. Customers from Age 30 to 40 are participated much in Reviews\n",
    "5. Tops from Depart Name received more Reviews"
   ]
  },
  {
   "cell_type": "markdown",
   "id": "duplicate-explorer",
   "metadata": {},
   "source": [
    "##  Next Steps\n",
    "\n",
    "1. Exploratory Data Analysis (EDA)\n",
    "\n",
    "We need to perform EDA and that data needs to be cleaned to gain insights that may be useful in improving the performance of our model. Few of the EDA as follows\n",
    "•\tFilling missing information (Null / NA values)\n",
    "•\tEncoding of categorical variables\n",
    "•\tDropping of features (or columns) \n",
    "\n",
    " \n",
    "2. Text preprocessing\n",
    "\n",
    "The below are steps we need to follow for the text preprocessing through Natural Language Tool Kit (NLTK)\n",
    "Lowercase\n",
    "Removing Punctuation\n",
    "Tokenization\n",
    "Stopword Filtering\n",
    "Stemming\n",
    "\n",
    "\n",
    "3. Models\n",
    "\n",
    "I am going to use the following classification models and perform the \n",
    "\n",
    "Logistic Regression\n",
    "Naive Bayes\n",
    "Support Vector Machine\n",
    "Random Forest\n",
    "\n",
    "4.Performace Evaluation Metrics\n",
    "\n",
    "Accuracy: test’s ability to correctly predict both classes\n",
    "Precision: test’s ability to correctly detect positive classes from all predicted positive classes\n",
    "Recall (Sensitivity): test’s ability to correctly detect positive classes from all actual positive classes\n",
    "F1 Score: harmonic mean of precision and recall\n",
    "\n",
    "\n",
    "5. Deployment\n",
    "\n",
    "\n",
    "6. Conculsion and Summary of the Project\n",
    "    "
   ]
  },
  {
   "cell_type": "markdown",
   "id": "missing-excuse",
   "metadata": {},
   "source": [
    "## References\n",
    "\n",
    "1.  Sentiment analysis using product review data, Journel of Big Data\n",
    "        https://journalofbigdata.springeropen.com/articles/10.1186/s40537-015-0015-2\n",
    "        \n",
    "2.  Sentiment Analysis, Wikipedia\n",
    "        https://en.wikipedia.org/wiki/Sentiment_analysis.\n",
    "\n",
    "3.  Sentiment Analysis: A Definitive Guide, MonkeyLearn\n",
    "\n",
    "        https://monkeylearn.com/sentiment-analysis/\n",
    "        \n",
    "4.  https://pandas.pydata.org/pandas-docs/version/0.23/generated/pandas.DataFrame.plot.html\n",
    "\n",
    "5. https://www.zentut.com/data-mining/data-mining-processes/\n"
   ]
  },
  {
   "cell_type": "code",
   "execution_count": null,
   "id": "polyphonic-reform",
   "metadata": {},
   "outputs": [],
   "source": []
  }
 ],
 "metadata": {
  "kernelspec": {
   "display_name": "Python 3",
   "language": "python",
   "name": "python3"
  },
  "language_info": {
   "codemirror_mode": {
    "name": "ipython",
    "version": 3
   },
   "file_extension": ".py",
   "mimetype": "text/x-python",
   "name": "python",
   "nbconvert_exporter": "python",
   "pygments_lexer": "ipython3",
   "version": "3.8.3"
  }
 },
 "nbformat": 4,
 "nbformat_minor": 5
}
